{
 "cells": [
  {
   "cell_type": "markdown",
   "id": "61109d91-e386-4f45-82f4-940aa9ba4303",
   "metadata": {},
   "source": [
    "# Sentiment Analysis: Analyzing customer reviews and support interactions to identify pain points.\n",
    "## OBJECTIVES\n",
    "* Create a \"Text to Vader\" Pipeline\n",
    "* Create a \"Text to Stopwords Remover to Vader\" Pipeline\n",
    "* Create a \"Text to Stopwords Remover to Bag of Words to Custom Model\"\n",
    "* Create a \"Text to Stopwords Remover to TF-IDF to Custom Model\"\n",
    "* Identify customer pain points from negative sentiment reviews\n",
    "\n",
    "## WORKFLOW\n",
    "1. DATA COLLECTION AND LOADING\n",
    "2. TEXT PROCESSING\n",
    "3. MODEL CREATION\n",
    "4. MODEL EVALUATION AND SELECTION"
   ]
  },
  {
   "cell_type": "code",
   "execution_count": 1,
   "id": "04d4b18a-fce4-411f-a015-55d0b067a4d8",
   "metadata": {},
   "outputs": [],
   "source": [
    "import pandas as pd\n",
    "import numpy as np\n",
    "import seaborn as sns\n",
    "import matplotlib.pyplot as plt\n",
    "\n",
    "import nltk\n",
    "from nltk.corpus import stopwords\n",
    "nltk.download(\"stopwords\")\n",
    "nltk.download(\"punkt\")\n",
    "nltk.download('punkt_tab')\n",
    "stopwords = stopwords.words('english')\n",
    "from nltk.tokenize import word_tokenize\n",
    "\n",
    "import warnings\n",
    "warnings.filterwarnings('ignore')"
   ]
  },
  {
   "cell_type": "code",
   "execution_count": 2,
   "id": "79e5fe15-cb29-40e7-860d-f4b9d4289a74",
   "metadata": {},
   "outputs": [],
   "source": [
    "# import dataset\n",
    "df = pd.read_csv('order_reviews_cleaned.csv')"
   ]
  },
  {
   "cell_type": "code",
   "execution_count": 3,
   "id": "ddeeb2da-ee95-43ad-9bbf-c1fe5ebc46a6",
   "metadata": {},
   "outputs": [
    {
     "data": {
      "text/html": [
       "<div>\n",
       "<style scoped>\n",
       "    .dataframe tbody tr th:only-of-type {\n",
       "        vertical-align: middle;\n",
       "    }\n",
       "\n",
       "    .dataframe tbody tr th {\n",
       "        vertical-align: top;\n",
       "    }\n",
       "\n",
       "    .dataframe thead th {\n",
       "        text-align: right;\n",
       "    }\n",
       "</style>\n",
       "<table border=\"1\" class=\"dataframe\">\n",
       "  <thead>\n",
       "    <tr style=\"text-align: right;\">\n",
       "      <th></th>\n",
       "      <th>review_id</th>\n",
       "      <th>order_id</th>\n",
       "      <th>review_score</th>\n",
       "      <th>review_comment_message</th>\n",
       "      <th>review_creation_date</th>\n",
       "      <th>review_answer_timestamp</th>\n",
       "    </tr>\n",
       "  </thead>\n",
       "  <tbody>\n",
       "    <tr>\n",
       "      <th>0</th>\n",
       "      <td>e64fb393e7b32834bb789ff8bb30750e</td>\n",
       "      <td>658677c97b385a9be170737859d3511b</td>\n",
       "      <td>5</td>\n",
       "      <td>Recebi bem antes do prazo estipulado.</td>\n",
       "      <td>2017-04-21 00:00:00</td>\n",
       "      <td>2017-04-21 22:02:06</td>\n",
       "    </tr>\n",
       "    <tr>\n",
       "      <th>1</th>\n",
       "      <td>f7c4243c7fe1938f181bec41a392bdeb</td>\n",
       "      <td>8e6bfb81e283fa7e4f11123a3fb894f1</td>\n",
       "      <td>5</td>\n",
       "      <td>Parabéns lojas lannister adorei comprar pela I...</td>\n",
       "      <td>2018-03-01 00:00:00</td>\n",
       "      <td>2018-03-02 10:26:53</td>\n",
       "    </tr>\n",
       "    <tr>\n",
       "      <th>2</th>\n",
       "      <td>8670d52e15e00043ae7de4c01cc2fe06</td>\n",
       "      <td>b9bf720beb4ab3728760088589c62129</td>\n",
       "      <td>4</td>\n",
       "      <td>aparelho eficiente. no site a marca do aparelh...</td>\n",
       "      <td>2018-05-22 00:00:00</td>\n",
       "      <td>2018-05-23 16:45:47</td>\n",
       "    </tr>\n",
       "    <tr>\n",
       "      <th>3</th>\n",
       "      <td>4b49719c8a200003f700d3d986ea1a19</td>\n",
       "      <td>9d6f15f95d01e79bd1349cc208361f09</td>\n",
       "      <td>4</td>\n",
       "      <td>Mas um pouco ,travando...pelo valor ta Boa.\\r\\n</td>\n",
       "      <td>2018-02-16 00:00:00</td>\n",
       "      <td>2018-02-20 10:52:22</td>\n",
       "    </tr>\n",
       "    <tr>\n",
       "      <th>4</th>\n",
       "      <td>3948b09f7c818e2d86c9a546758b2335</td>\n",
       "      <td>e51478e7e277a83743b6f9991dbfa3fb</td>\n",
       "      <td>5</td>\n",
       "      <td>Vendedor confiável, produto ok e entrega antes...</td>\n",
       "      <td>2018-05-23 00:00:00</td>\n",
       "      <td>2018-05-24 03:00:01</td>\n",
       "    </tr>\n",
       "  </tbody>\n",
       "</table>\n",
       "</div>"
      ],
      "text/plain": [
       "                          review_id                          order_id  \\\n",
       "0  e64fb393e7b32834bb789ff8bb30750e  658677c97b385a9be170737859d3511b   \n",
       "1  f7c4243c7fe1938f181bec41a392bdeb  8e6bfb81e283fa7e4f11123a3fb894f1   \n",
       "2  8670d52e15e00043ae7de4c01cc2fe06  b9bf720beb4ab3728760088589c62129   \n",
       "3  4b49719c8a200003f700d3d986ea1a19  9d6f15f95d01e79bd1349cc208361f09   \n",
       "4  3948b09f7c818e2d86c9a546758b2335  e51478e7e277a83743b6f9991dbfa3fb   \n",
       "\n",
       "   review_score                             review_comment_message  \\\n",
       "0             5              Recebi bem antes do prazo estipulado.   \n",
       "1             5  Parabéns lojas lannister adorei comprar pela I...   \n",
       "2             4  aparelho eficiente. no site a marca do aparelh...   \n",
       "3             4    Mas um pouco ,travando...pelo valor ta Boa.\\r\\n   \n",
       "4             5  Vendedor confiável, produto ok e entrega antes...   \n",
       "\n",
       "  review_creation_date review_answer_timestamp  \n",
       "0  2017-04-21 00:00:00     2017-04-21 22:02:06  \n",
       "1  2018-03-01 00:00:00     2018-03-02 10:26:53  \n",
       "2  2018-05-22 00:00:00     2018-05-23 16:45:47  \n",
       "3  2018-02-16 00:00:00     2018-02-20 10:52:22  \n",
       "4  2018-05-23 00:00:00     2018-05-24 03:00:01  "
      ]
     },
     "execution_count": 3,
     "metadata": {},
     "output_type": "execute_result"
    }
   ],
   "source": [
    "# peak at data\n",
    "df.head()"
   ]
  },
  {
   "cell_type": "code",
   "execution_count": 4,
   "id": "0cba8576-5b05-425e-ac84-5bcc7e8947d1",
   "metadata": {},
   "outputs": [],
   "source": [
    "# Convert date columns to datetime\n",
    "df['review_creation_date'] = pd.to_datetime(df['review_creation_date'])\n",
    "df['review_answer_timestamp'] = pd.to_datetime(df['review_answer_timestamp'])"
   ]
  },
  {
   "cell_type": "code",
   "execution_count": 5,
   "id": "2c26298d-ec93-467f-a611-983b31614ba7",
   "metadata": {},
   "outputs": [
    {
     "name": "stdout",
     "output_type": "stream",
     "text": [
      "<class 'pandas.core.frame.DataFrame'>\n",
      "RangeIndex: 40977 entries, 0 to 40976\n",
      "Data columns (total 6 columns):\n",
      " #   Column                   Non-Null Count  Dtype         \n",
      "---  ------                   --------------  -----         \n",
      " 0   review_id                40977 non-null  object        \n",
      " 1   order_id                 40977 non-null  object        \n",
      " 2   review_score             40977 non-null  int64         \n",
      " 3   review_comment_message   40977 non-null  object        \n",
      " 4   review_creation_date     40977 non-null  datetime64[ns]\n",
      " 5   review_answer_timestamp  40977 non-null  datetime64[ns]\n",
      "dtypes: datetime64[ns](2), int64(1), object(3)\n",
      "memory usage: 1.9+ MB\n"
     ]
    }
   ],
   "source": [
    "# data infor\n",
    "df.info()"
   ]
  },
  {
   "cell_type": "code",
   "execution_count": 6,
   "id": "ef37afa2-4f17-4ff8-9ee6-0ccf82bf7429",
   "metadata": {},
   "outputs": [
    {
     "data": {
      "text/plain": [
       "array([5, 4, 2, 1, 3])"
      ]
     },
     "execution_count": 6,
     "metadata": {},
     "output_type": "execute_result"
    }
   ],
   "source": [
    "# check review score\n",
    "df['review_score'].unique()"
   ]
  },
  {
   "cell_type": "markdown",
   "id": "367a2172-900a-4f26-94b5-95df12a99f8f",
   "metadata": {},
   "source": [
    "## Mapping the review_ score"
   ]
  },
  {
   "cell_type": "code",
   "execution_count": 7,
   "id": "218d87ca-5f5b-45f3-aceb-fc6e03ceba5b",
   "metadata": {},
   "outputs": [
    {
     "data": {
      "text/plain": [
       "sentiment\n",
       "Positive    26530\n",
       "Negative    10890\n",
       "Neutral      3557\n",
       "Name: count, dtype: int64"
      ]
     },
     "execution_count": 7,
     "metadata": {},
     "output_type": "execute_result"
    }
   ],
   "source": [
    "# Map review scores to sentiment labels\n",
    "def map_sentiment(score):\n",
    "    if score >= 4:\n",
    "        return 'Positive'\n",
    "    elif score == 3:\n",
    "        return 'Neutral'\n",
    "    else:\n",
    "        return 'Negative'\n",
    "\n",
    "df['sentiment'] = df['review_score'].apply(map_sentiment)\n",
    "\n",
    "# Verify mapping\n",
    "df['sentiment'].value_counts()\n"
   ]
  },
  {
   "cell_type": "code",
   "execution_count": 8,
   "id": "27b948eb-2d27-4e97-a13a-f33ff8a99ff9",
   "metadata": {},
   "outputs": [
    {
     "data": {
      "text/html": [
       "<div>\n",
       "<style scoped>\n",
       "    .dataframe tbody tr th:only-of-type {\n",
       "        vertical-align: middle;\n",
       "    }\n",
       "\n",
       "    .dataframe tbody tr th {\n",
       "        vertical-align: top;\n",
       "    }\n",
       "\n",
       "    .dataframe thead th {\n",
       "        text-align: right;\n",
       "    }\n",
       "</style>\n",
       "<table border=\"1\" class=\"dataframe\">\n",
       "  <thead>\n",
       "    <tr style=\"text-align: right;\">\n",
       "      <th></th>\n",
       "      <th>review_id</th>\n",
       "      <th>order_id</th>\n",
       "      <th>review_score</th>\n",
       "      <th>review_comment_message</th>\n",
       "      <th>review_creation_date</th>\n",
       "      <th>review_answer_timestamp</th>\n",
       "      <th>sentiment</th>\n",
       "    </tr>\n",
       "  </thead>\n",
       "  <tbody>\n",
       "    <tr>\n",
       "      <th>0</th>\n",
       "      <td>e64fb393e7b32834bb789ff8bb30750e</td>\n",
       "      <td>658677c97b385a9be170737859d3511b</td>\n",
       "      <td>5</td>\n",
       "      <td>Recebi bem antes do prazo estipulado.</td>\n",
       "      <td>2017-04-21</td>\n",
       "      <td>2017-04-21 22:02:06</td>\n",
       "      <td>Positive</td>\n",
       "    </tr>\n",
       "    <tr>\n",
       "      <th>1</th>\n",
       "      <td>f7c4243c7fe1938f181bec41a392bdeb</td>\n",
       "      <td>8e6bfb81e283fa7e4f11123a3fb894f1</td>\n",
       "      <td>5</td>\n",
       "      <td>Parabéns lojas lannister adorei comprar pela I...</td>\n",
       "      <td>2018-03-01</td>\n",
       "      <td>2018-03-02 10:26:53</td>\n",
       "      <td>Positive</td>\n",
       "    </tr>\n",
       "    <tr>\n",
       "      <th>2</th>\n",
       "      <td>8670d52e15e00043ae7de4c01cc2fe06</td>\n",
       "      <td>b9bf720beb4ab3728760088589c62129</td>\n",
       "      <td>4</td>\n",
       "      <td>aparelho eficiente. no site a marca do aparelh...</td>\n",
       "      <td>2018-05-22</td>\n",
       "      <td>2018-05-23 16:45:47</td>\n",
       "      <td>Positive</td>\n",
       "    </tr>\n",
       "    <tr>\n",
       "      <th>3</th>\n",
       "      <td>4b49719c8a200003f700d3d986ea1a19</td>\n",
       "      <td>9d6f15f95d01e79bd1349cc208361f09</td>\n",
       "      <td>4</td>\n",
       "      <td>Mas um pouco ,travando...pelo valor ta Boa.\\r\\n</td>\n",
       "      <td>2018-02-16</td>\n",
       "      <td>2018-02-20 10:52:22</td>\n",
       "      <td>Positive</td>\n",
       "    </tr>\n",
       "    <tr>\n",
       "      <th>4</th>\n",
       "      <td>3948b09f7c818e2d86c9a546758b2335</td>\n",
       "      <td>e51478e7e277a83743b6f9991dbfa3fb</td>\n",
       "      <td>5</td>\n",
       "      <td>Vendedor confiável, produto ok e entrega antes...</td>\n",
       "      <td>2018-05-23</td>\n",
       "      <td>2018-05-24 03:00:01</td>\n",
       "      <td>Positive</td>\n",
       "    </tr>\n",
       "  </tbody>\n",
       "</table>\n",
       "</div>"
      ],
      "text/plain": [
       "                          review_id                          order_id  \\\n",
       "0  e64fb393e7b32834bb789ff8bb30750e  658677c97b385a9be170737859d3511b   \n",
       "1  f7c4243c7fe1938f181bec41a392bdeb  8e6bfb81e283fa7e4f11123a3fb894f1   \n",
       "2  8670d52e15e00043ae7de4c01cc2fe06  b9bf720beb4ab3728760088589c62129   \n",
       "3  4b49719c8a200003f700d3d986ea1a19  9d6f15f95d01e79bd1349cc208361f09   \n",
       "4  3948b09f7c818e2d86c9a546758b2335  e51478e7e277a83743b6f9991dbfa3fb   \n",
       "\n",
       "   review_score                             review_comment_message  \\\n",
       "0             5              Recebi bem antes do prazo estipulado.   \n",
       "1             5  Parabéns lojas lannister adorei comprar pela I...   \n",
       "2             4  aparelho eficiente. no site a marca do aparelh...   \n",
       "3             4    Mas um pouco ,travando...pelo valor ta Boa.\\r\\n   \n",
       "4             5  Vendedor confiável, produto ok e entrega antes...   \n",
       "\n",
       "  review_creation_date review_answer_timestamp sentiment  \n",
       "0           2017-04-21     2017-04-21 22:02:06  Positive  \n",
       "1           2018-03-01     2018-03-02 10:26:53  Positive  \n",
       "2           2018-05-22     2018-05-23 16:45:47  Positive  \n",
       "3           2018-02-16     2018-02-20 10:52:22  Positive  \n",
       "4           2018-05-23     2018-05-24 03:00:01  Positive  "
      ]
     },
     "execution_count": 8,
     "metadata": {},
     "output_type": "execute_result"
    }
   ],
   "source": [
    "# view data\n",
    "df.head()"
   ]
  },
  {
   "cell_type": "markdown",
   "id": "d23eb1f4-35b3-41ec-aebb-2a8cc781d858",
   "metadata": {},
   "source": [
    "# Exploratory Data Analysis"
   ]
  },
  {
   "cell_type": "code",
   "execution_count": 9,
   "id": "6eb364c2-5afa-4915-985b-24c2ada0b8cc",
   "metadata": {},
   "outputs": [
    {
     "data": {
      "image/png": "[encoded data removed]",
      "text/plain": [
       "<Figure size 640x480 with 1 Axes>"
      ]
     },
     "metadata": {},
     "output_type": "display_data"
    }
   ],
   "source": [
    "# plot sentiment distribution\n",
    "sns.countplot(x='sentiment', data=df, palette={'Positive': 'green', 'Neutral': 'blue', 'Negative': 'red'})\n",
    "plt.title(\"Distribution of Sentiments in Customer Reviews\")\n",
    "plt.show()\n"
   ]
  },
  {
   "cell_type": "code",
   "execution_count": 10,
   "id": "8de42384-9bcb-46d9-b037-76f90b9b8f70",
   "metadata": {},
   "outputs": [
    {
     "data": {
      "image/png": "[encoded data removed]",
      "text/plain": [
       "<Figure size 640x480 with 1 Axes>"
      ]
     },
     "metadata": {},
     "output_type": "display_data"
    }
   ],
   "source": [
    "# review score distribution \n",
    "# Plot countplot with sorted order\n",
    "sns.countplot(x='review_score', data=df, palette='plasma', \n",
    "              order=df['review_score'].value_counts().index)\n",
    "\n",
    "plt.title(\"Distribution of Customer Reviews (Sorted)\")\n",
    "plt.show()"
   ]
  },
  {
   "cell_type": "code",
   "execution_count": 11,
   "id": "9c2df039-f226-4ecd-9356-4e91fb818afb",
   "metadata": {},
   "outputs": [],
   "source": [
    "# Set review_creation_date as the index\n",
    "df.set_index('review_creation_date', inplace=True)"
   ]
  },
  {
   "cell_type": "code",
   "execution_count": 12,
   "id": "da36f79e-7c40-46a1-9ce8-1990d9514dbb",
   "metadata": {},
   "outputs": [
    {
     "data": {
      "image/png": "[encoded data removed]",
      "text/plain": [
       "<Figure size 1200x600 with 1 Axes>"
      ]
     },
     "metadata": {},
     "output_type": "display_data"
    }
   ],
   "source": [
    "# Resample by month and plot the trend\n",
    "df.resample('M').size().plot(kind='line', figsize=(12, 6))\n",
    "\n",
    "plt.title(\"Number of Reviews Over Time\")\n",
    "plt.ylabel(\"Total Reviews\")\n",
    "plt.xlabel(\"Date\")\n",
    "plt.show()"
   ]
  },
  {
   "cell_type": "markdown",
   "id": "0fbfdb9f-f94e-4ca9-a69a-fb1a60baab68",
   "metadata": {},
   "source": [
    "# Bivariate Analys"
   ]
  },
  {
   "cell_type": "code",
   "execution_count": 13,
   "id": "36270ef3-eb88-490f-aa0d-846b378e4534",
   "metadata": {},
   "outputs": [
    {
     "data": {
      "image/png": "[encoded data removed]",
      "text/plain": [
       "<Figure size 1200x600 with 1 Axes>"
      ]
     },
     "metadata": {},
     "output_type": "display_data"
    }
   ],
   "source": [
    "# plot time series \n",
    "df.resample('M')['sentiment'].value_counts().unstack().plot(kind='line', figsize=(12, 6))\n",
    "plt.title(\"Sentiment Trends Over Time\")\n",
    "plt.ylabel(\"Number of Reviews\")\n",
    "plt.show()"
   ]
  },
  {
   "cell_type": "code",
   "execution_count": 14,
   "id": "e1dc2967-32e4-410a-a21d-29a1fa45b9e2",
   "metadata": {},
   "outputs": [
    {
     "data": {
      "image/png": "[encoded data removed]",
      "text/plain": [
       "<Figure size 1200x600 with 1 Axes>"
      ]
     },
     "metadata": {},
     "output_type": "display_data"
    }
   ],
   "source": [
    "# Create a new column for review length\n",
    "df['review_length'] = df['review_comment_message'].astype(str).apply(len)\n",
    "\n",
    "# Plot review length distribution by sentiment\n",
    "plt.figure(figsize=(12, 6))\n",
    "sns.boxplot(x='sentiment', y='review_length', data=df, palette={'Positive': 'green', 'Neutral': 'blue', 'Negative': 'red'})\n",
    "\n",
    "plt.title(\"Length of Review vs. Sentiment\")\n",
    "plt.xlabel(\"Sentiment\")\n",
    "plt.ylabel(\"Review Length (Character Count)\")\n",
    "plt.show()"
   ]
  },
  {
   "cell_type": "code",
   "execution_count": 15,
   "id": "b0fdfc90-0667-4418-b207-36330b757a1b",
   "metadata": {},
   "outputs": [
    {
     "data": {
      "image/png": "[encoded data removed]",
      "text/plain": [
       "<Figure size 800x500 with 1 Axes>"
      ]
     },
     "metadata": {},
     "output_type": "display_data"
    }
   ],
   "source": [
    "# Plot review score distribution by sentiment\n",
    "plt.figure(figsize=(8, 5))\n",
    "sns.barplot(x='sentiment', y='review_score', data=df, estimator=np.mean, palette={'Positive': 'green', 'Neutral': 'blue', 'Negative': 'red'})\n",
    "\n",
    "plt.title(\"Average Review Score by Sentiment\")\n",
    "plt.xlabel(\"Sentiment\")\n",
    "plt.ylabel(\"Average Review Score\")\n",
    "plt.show()\n"
   ]
  },
  {
   "cell_type": "markdown",
   "id": "de4f5f77-e00f-4ab9-804a-82584d73f748",
   "metadata": {},
   "source": [
    "# multivariate analysis "
   ]
  },
  {
   "cell_type": "code",
   "execution_count": 16,
   "id": "9283fae2-f8ad-49db-b5f9-7b2108419e00",
   "metadata": {},
   "outputs": [
    {
     "data": {
      "image/png": "[encoded data removed]",
      "text/plain": [
       "<Figure size 1200x600 with 1 Axes>"
      ]
     },
     "metadata": {},
     "output_type": "display_data"
    }
   ],
   "source": [
    "# Create a column for word count in reviews\n",
    "df['word_count'] = df['review_comment_message'].astype(str).apply(lambda x: len(x.split()))\n",
    "\n",
    "# Scatter plot for review score vs. word count, colored by sentiment\n",
    "plt.figure(figsize=(12, 6))\n",
    "sns.scatterplot(x='review_score', y='word_count', hue='sentiment', data=df, alpha=0.6)\n",
    "\n",
    "plt.title(\"Sentiment vs. Review Score vs. Word Count\")\n",
    "plt.xlabel(\"Review Score\")\n",
    "plt.ylabel(\"Word Count\")\n",
    "plt.legend(title=\"Sentiment\")\n",
    "plt.show()\n",
    "\n"
   ]
  },
  {
   "cell_type": "markdown",
   "id": "e20e925f-0dc4-4ec4-87d8-7187afae60ba",
   "metadata": {},
   "source": [
    "# Observations from EDA\n",
    "#### 1. Sentiment Distribution\n",
    "* Most reviews are Positive, followed by Negative and Neutral reviews.\n",
    "* There is a clear imbalance, with a high number of 5-star reviews but also a significant amount of 1-star reviews, indicating polarized opinions.\n",
    "\n",
    "#### 2. Review Score Distribution by Sentiment\n",
    "* Positive sentiment has the highest average review score (~4.8), confirming alignment between sentiment and scores.\n",
    "* Negative sentiment has an average review score close to 1.5, showing that low ratings strongly correlate with negative sentiment.\n",
    "* Neutral sentiment clusters around a score of ~3, as expected.\n",
    "\n",
    "#### 3. Length of Review vs. Sentiment\n",
    "* Negative reviews tend to be longer, suggesting detailed complaints and dissatisfaction.\n",
    "* Positive reviews are generally shorter, often brief expressions of satisfaction.\n",
    "* Neutral reviews have mixed review lengths, possibly indicating moderate experiences or a lack of strong opinion.\n",
    "\n",
    "#### 4. Sentiment Trends Over Time\n",
    "* Positive sentiment dominates across all time periods, but negative sentiment follows a noticeable increasing trend.\n",
    "* Peaks in negative sentiment could indicate issues with product quality, service, or delivery delays in certain months.\n",
    "\n",
    "#### 5. Total Reviews Over Time\n",
    "* There is a clear increase in reviews over time, suggesting growing customer engagement.\n",
    "* Fluctuations in review volume may correlate with seasonal trends or marketing campaigns.\n",
    "\n",
    "#### Business Takeaways\n",
    "* Customer satisfaction is generally high, but negative reviews indicate pain points that need addressing.\n",
    "* Longer negative reviews suggest specific recurring issues—further NLP analysis can extract key complaint themes.\n",
    "* Seasonal spikes in negative sentiment should be investigated, possibly linked to service delays or product demand fluctuations."
   ]
  },
  {
   "cell_type": "code",
   "execution_count": null,
   "id": "a04ed9b4-0b9e-4e9d-b2f5-0b4590b79c46",
   "metadata": {},
   "outputs": [],
   "source": []
  },
  {
   "cell_type": "markdown",
   "id": "88fe5f27-21a8-4cf2-b8e9-f8b81cdb89f7",
   "metadata": {},
   "source": [
    "# Text Processing\n",
    "* Remove stop words\n",
    "* bag of words\n",
    "* TFIDF"
   ]
  },
  {
   "cell_type": "code",
   "execution_count": 17,
   "id": "16f70e59-a229-4fc3-982e-a1ed1aecf6a9",
   "metadata": {},
   "outputs": [
    {
     "data": {
      "text/html": [
       "<div>\n",
       "<style scoped>\n",
       "    .dataframe tbody tr th:only-of-type {\n",
       "        vertical-align: middle;\n",
       "    }\n",
       "\n",
       "    .dataframe tbody tr th {\n",
       "        vertical-align: top;\n",
       "    }\n",
       "\n",
       "    .dataframe thead th {\n",
       "        text-align: right;\n",
       "    }\n",
       "</style>\n",
       "<table border=\"1\" class=\"dataframe\">\n",
       "  <thead>\n",
       "    <tr style=\"text-align: right;\">\n",
       "      <th></th>\n",
       "      <th>review_id</th>\n",
       "      <th>order_id</th>\n",
       "      <th>review_score</th>\n",
       "      <th>review_comment_message</th>\n",
       "      <th>review_answer_timestamp</th>\n",
       "      <th>sentiment</th>\n",
       "      <th>review_length</th>\n",
       "      <th>word_count</th>\n",
       "    </tr>\n",
       "    <tr>\n",
       "      <th>review_creation_date</th>\n",
       "      <th></th>\n",
       "      <th></th>\n",
       "      <th></th>\n",
       "      <th></th>\n",
       "      <th></th>\n",
       "      <th></th>\n",
       "      <th></th>\n",
       "      <th></th>\n",
       "    </tr>\n",
       "  </thead>\n",
       "  <tbody>\n",
       "    <tr>\n",
       "      <th>2017-04-21</th>\n",
       "      <td>e64fb393e7b32834bb789ff8bb30750e</td>\n",
       "      <td>658677c97b385a9be170737859d3511b</td>\n",
       "      <td>5</td>\n",
       "      <td>Recebi bem antes do prazo estipulado.</td>\n",
       "      <td>2017-04-21 22:02:06</td>\n",
       "      <td>Positive</td>\n",
       "      <td>37</td>\n",
       "      <td>6</td>\n",
       "    </tr>\n",
       "    <tr>\n",
       "      <th>2018-03-01</th>\n",
       "      <td>f7c4243c7fe1938f181bec41a392bdeb</td>\n",
       "      <td>8e6bfb81e283fa7e4f11123a3fb894f1</td>\n",
       "      <td>5</td>\n",
       "      <td>Parabéns lojas lannister adorei comprar pela I...</td>\n",
       "      <td>2018-03-02 10:26:53</td>\n",
       "      <td>Positive</td>\n",
       "      <td>100</td>\n",
       "      <td>15</td>\n",
       "    </tr>\n",
       "    <tr>\n",
       "      <th>2018-05-22</th>\n",
       "      <td>8670d52e15e00043ae7de4c01cc2fe06</td>\n",
       "      <td>b9bf720beb4ab3728760088589c62129</td>\n",
       "      <td>4</td>\n",
       "      <td>aparelho eficiente. no site a marca do aparelh...</td>\n",
       "      <td>2018-05-23 16:45:47</td>\n",
       "      <td>Positive</td>\n",
       "      <td>174</td>\n",
       "      <td>30</td>\n",
       "    </tr>\n",
       "    <tr>\n",
       "      <th>2018-02-16</th>\n",
       "      <td>4b49719c8a200003f700d3d986ea1a19</td>\n",
       "      <td>9d6f15f95d01e79bd1349cc208361f09</td>\n",
       "      <td>4</td>\n",
       "      <td>Mas um pouco ,travando...pelo valor ta Boa.\\r\\n</td>\n",
       "      <td>2018-02-20 10:52:22</td>\n",
       "      <td>Positive</td>\n",
       "      <td>45</td>\n",
       "      <td>7</td>\n",
       "    </tr>\n",
       "    <tr>\n",
       "      <th>2018-05-23</th>\n",
       "      <td>3948b09f7c818e2d86c9a546758b2335</td>\n",
       "      <td>e51478e7e277a83743b6f9991dbfa3fb</td>\n",
       "      <td>5</td>\n",
       "      <td>Vendedor confiável, produto ok e entrega antes...</td>\n",
       "      <td>2018-05-24 03:00:01</td>\n",
       "      <td>Positive</td>\n",
       "      <td>56</td>\n",
       "      <td>9</td>\n",
       "    </tr>\n",
       "  </tbody>\n",
       "</table>\n",
       "</div>"
      ],
      "text/plain": [
       "                                             review_id  \\\n",
       "review_creation_date                                     \n",
       "2017-04-21            e64fb393e7b32834bb789ff8bb30750e   \n",
       "2018-03-01            f7c4243c7fe1938f181bec41a392bdeb   \n",
       "2018-05-22            8670d52e15e00043ae7de4c01cc2fe06   \n",
       "2018-02-16            4b49719c8a200003f700d3d986ea1a19   \n",
       "2018-05-23            3948b09f7c818e2d86c9a546758b2335   \n",
       "\n",
       "                                              order_id  review_score  \\\n",
       "review_creation_date                                                   \n",
       "2017-04-21            658677c97b385a9be170737859d3511b             5   \n",
       "2018-03-01            8e6bfb81e283fa7e4f11123a3fb894f1             5   \n",
       "2018-05-22            b9bf720beb4ab3728760088589c62129             4   \n",
       "2018-02-16            9d6f15f95d01e79bd1349cc208361f09             4   \n",
       "2018-05-23            e51478e7e277a83743b6f9991dbfa3fb             5   \n",
       "\n",
       "                                                 review_comment_message  \\\n",
       "review_creation_date                                                      \n",
       "2017-04-21                        Recebi bem antes do prazo estipulado.   \n",
       "2018-03-01            Parabéns lojas lannister adorei comprar pela I...   \n",
       "2018-05-22            aparelho eficiente. no site a marca do aparelh...   \n",
       "2018-02-16              Mas um pouco ,travando...pelo valor ta Boa.\\r\\n   \n",
       "2018-05-23            Vendedor confiável, produto ok e entrega antes...   \n",
       "\n",
       "                     review_answer_timestamp sentiment  review_length  \\\n",
       "review_creation_date                                                    \n",
       "2017-04-21               2017-04-21 22:02:06  Positive             37   \n",
       "2018-03-01               2018-03-02 10:26:53  Positive            100   \n",
       "2018-05-22               2018-05-23 16:45:47  Positive            174   \n",
       "2018-02-16               2018-02-20 10:52:22  Positive             45   \n",
       "2018-05-23               2018-05-24 03:00:01  Positive             56   \n",
       "\n",
       "                      word_count  \n",
       "review_creation_date              \n",
       "2017-04-21                     6  \n",
       "2018-03-01                    15  \n",
       "2018-05-22                    30  \n",
       "2018-02-16                     7  \n",
       "2018-05-23                     9  "
      ]
     },
     "execution_count": 17,
     "metadata": {},
     "output_type": "execute_result"
    }
   ],
   "source": [
    "df.head()"
   ]
  },
  {
   "cell_type": "code",
   "execution_count": 18,
   "id": "0b71dd08-b31c-41cf-b439-1c5cbde8215e",
   "metadata": {},
   "outputs": [],
   "source": [
    "# Keep only necessary columns\n",
    "df = df[['review_comment_message', 'sentiment']]\n"
   ]
  },
  {
   "cell_type": "code",
   "execution_count": null,
   "id": "996c1e12-108f-4089-a0bb-35ed92db4f13",
   "metadata": {},
   "outputs": [],
   "source": []
  },
  {
   "cell_type": "code",
   "execution_count": 19,
   "id": "0f23c35d-e939-4b56-934b-6f4f55c9de40",
   "metadata": {},
   "outputs": [
    {
     "data": {
      "text/html": [
       "<div>\n",
       "<style scoped>\n",
       "    .dataframe tbody tr th:only-of-type {\n",
       "        vertical-align: middle;\n",
       "    }\n",
       "\n",
       "    .dataframe tbody tr th {\n",
       "        vertical-align: top;\n",
       "    }\n",
       "\n",
       "    .dataframe thead th {\n",
       "        text-align: right;\n",
       "    }\n",
       "</style>\n",
       "<table border=\"1\" class=\"dataframe\">\n",
       "  <thead>\n",
       "    <tr style=\"text-align: right;\">\n",
       "      <th></th>\n",
       "      <th>review_comment_message</th>\n",
       "      <th>sentiment</th>\n",
       "    </tr>\n",
       "  </thead>\n",
       "  <tbody>\n",
       "    <tr>\n",
       "      <th>0</th>\n",
       "      <td>Recebi bem antes do prazo estipulado.</td>\n",
       "      <td>Positive</td>\n",
       "    </tr>\n",
       "    <tr>\n",
       "      <th>1</th>\n",
       "      <td>Parabéns lojas lannister adorei comprar pela I...</td>\n",
       "      <td>Positive</td>\n",
       "    </tr>\n",
       "    <tr>\n",
       "      <th>2</th>\n",
       "      <td>aparelho eficiente. no site a marca do aparelh...</td>\n",
       "      <td>Positive</td>\n",
       "    </tr>\n",
       "    <tr>\n",
       "      <th>3</th>\n",
       "      <td>Mas um pouco ,travando...pelo valor ta Boa.\\r\\n</td>\n",
       "      <td>Positive</td>\n",
       "    </tr>\n",
       "    <tr>\n",
       "      <th>4</th>\n",
       "      <td>Vendedor confiável, produto ok e entrega antes...</td>\n",
       "      <td>Positive</td>\n",
       "    </tr>\n",
       "  </tbody>\n",
       "</table>\n",
       "</div>"
      ],
      "text/plain": [
       "                              review_comment_message sentiment\n",
       "0              Recebi bem antes do prazo estipulado.  Positive\n",
       "1  Parabéns lojas lannister adorei comprar pela I...  Positive\n",
       "2  aparelho eficiente. no site a marca do aparelh...  Positive\n",
       "3    Mas um pouco ,travando...pelo valor ta Boa.\\r\\n  Positive\n",
       "4  Vendedor confiável, produto ok e entrega antes...  Positive"
      ]
     },
     "execution_count": 19,
     "metadata": {},
     "output_type": "execute_result"
    }
   ],
   "source": [
    "# Reset index to maintain order\n",
    "df.reset_index(drop=True, inplace=True)\n",
    "# Check the first few rows\n",
    "df.head()\n"
   ]
  },
  {
   "cell_type": "markdown",
   "id": "c0926906-cd74-4836-913b-5ddc7d4c1ea0",
   "metadata": {},
   "source": [
    "## Translate reviews to English from portuguese"
   ]
  },
  {
   "cell_type": "code",
   "execution_count": 20,
   "id": "e52f849e-30a3-4d9e-9382-bdee9327e6b8",
   "metadata": {},
   "outputs": [
    {
     "data": {
      "text/html": [
       "<div>\n",
       "<style scoped>\n",
       "    .dataframe tbody tr th:only-of-type {\n",
       "        vertical-align: middle;\n",
       "    }\n",
       "\n",
       "    .dataframe tbody tr th {\n",
       "        vertical-align: top;\n",
       "    }\n",
       "\n",
       "    .dataframe thead th {\n",
       "        text-align: right;\n",
       "    }\n",
       "</style>\n",
       "<table border=\"1\" class=\"dataframe\">\n",
       "  <thead>\n",
       "    <tr style=\"text-align: right;\">\n",
       "      <th></th>\n",
       "      <th>review_comment_message</th>\n",
       "      <th>sentiment</th>\n",
       "    </tr>\n",
       "  </thead>\n",
       "  <tbody>\n",
       "    <tr>\n",
       "      <th>0</th>\n",
       "      <td>Recebi bem antes do prazo estipulado.</td>\n",
       "      <td>Positive</td>\n",
       "    </tr>\n",
       "    <tr>\n",
       "      <th>1</th>\n",
       "      <td>Parabéns lojas lannister adorei comprar pela I...</td>\n",
       "      <td>Positive</td>\n",
       "    </tr>\n",
       "    <tr>\n",
       "      <th>2</th>\n",
       "      <td>aparelho eficiente. no site a marca do aparelh...</td>\n",
       "      <td>Positive</td>\n",
       "    </tr>\n",
       "    <tr>\n",
       "      <th>3</th>\n",
       "      <td>Mas um pouco ,travando...pelo valor ta Boa.\\r\\n</td>\n",
       "      <td>Positive</td>\n",
       "    </tr>\n",
       "    <tr>\n",
       "      <th>4</th>\n",
       "      <td>Vendedor confiável, produto ok e entrega antes...</td>\n",
       "      <td>Positive</td>\n",
       "    </tr>\n",
       "  </tbody>\n",
       "</table>\n",
       "</div>"
      ],
      "text/plain": [
       "                              review_comment_message sentiment\n",
       "0              Recebi bem antes do prazo estipulado.  Positive\n",
       "1  Parabéns lojas lannister adorei comprar pela I...  Positive\n",
       "2  aparelho eficiente. no site a marca do aparelh...  Positive\n",
       "3    Mas um pouco ,travando...pelo valor ta Boa.\\r\\n  Positive\n",
       "4  Vendedor confiável, produto ok e entrega antes...  Positive"
      ]
     },
     "execution_count": 20,
     "metadata": {},
     "output_type": "execute_result"
    }
   ],
   "source": [
    "df.head()  # Check if 'translated_review' exists and has data\n",
    " # Check if the 'translated_review' column is fully populated\n"
   ]
  },
  {
   "cell_type": "code",
   "execution_count": 21,
   "id": "b6c8cd80-6028-4d04-af6e-ee067e143636",
   "metadata": {},
   "outputs": [
    {
     "name": "stderr",
     "output_type": "stream",
     "text": [
      "You are using the default legacy behaviour of the <class 'transformers.models.t5.tokenization_t5.T5Tokenizer'>. This is expected, and simply means that the `legacy` (previous) behavior will be used so nothing changes for you. If you want to use the new behaviour, set `legacy=False`. This should only be set if you understand what it means, and thoroughly read the reason why this was added as explained in https://github.com/huggingface/transformers/pull/24565\n"
     ]
    }
   ],
   "source": [
    "from transformers import T5ForConditionalGeneration, T5Tokenizer\n",
    "\n",
    "# Load the alternative translation model\n",
    "model_name = \"unicamp-dl/translation-pt-en-t5\"\n",
    "tokenizer = T5Tokenizer.from_pretrained(model_name)\n",
    "model = T5ForConditionalGeneration.from_pretrained(model_name)\n",
    "\n"
   ]
  },
  {
   "cell_type": "code",
   "execution_count": 22,
   "id": "5b409be2-5ab1-4faa-8501-927820434d7d",
   "metadata": {},
   "outputs": [],
   "source": [
    "import torch\n",
    "\n",
    "# Function to translate text using the offline model\n",
    "def translate_offline(text):\n",
    "    inputs = tokenizer(text, return_tensors=\"pt\", padding=True, truncation=True, max_length=512)\n",
    "    translated_tokens = model.generate(**inputs)\n",
    "    return tokenizer.decode(translated_tokens[0], skip_special_tokens=True)\n"
   ]
  },
  {
   "cell_type": "code",
   "execution_count": 23,
   "id": "5e906e2c-4636-421c-8341-abb95632fdf9",
   "metadata": {},
   "outputs": [],
   "source": [
    "## Batch apply translations"
   ]
  },
  {
   "cell_type": "code",
   "execution_count": 24,
   "id": "e2020590-ac89-44cc-a9bf-0099be094fc1",
   "metadata": {},
   "outputs": [
    {
     "name": "stdout",
     "output_type": "stream",
     "text": [
      " Translated 500 reviews...\n",
      " Translated 1000 reviews...\n",
      " Translated 1500 reviews...\n",
      " Translated 2000 reviews...\n",
      " Translated 2500 reviews...\n",
      " Translated 3000 reviews...\n",
      " Translated 3500 reviews...\n",
      " Translated 4000 reviews...\n",
      " Translated 4500 reviews...\n",
      " Translated 5000 reviews...\n",
      " Translated 5500 reviews...\n",
      " Translated 6000 reviews...\n",
      " Translated 6500 reviews...\n",
      " Translated 7000 reviews...\n",
      " Translated 7500 reviews...\n",
      " Translated 8000 reviews...\n",
      " Translated 8500 reviews...\n",
      " Translated 9000 reviews...\n",
      " Translated 9500 reviews...\n",
      " Translated 10000 reviews...\n",
      " Translated 10500 reviews...\n",
      " Translated 11000 reviews...\n",
      " Translated 11500 reviews...\n",
      " Translated 12000 reviews...\n",
      " Translated 12500 reviews...\n",
      " Translated 13000 reviews...\n",
      " Translated 13500 reviews...\n",
      " Translated 14000 reviews...\n",
      " Translated 14500 reviews...\n",
      " Translated 15000 reviews...\n",
      " Translated 15500 reviews...\n",
      " Translated 16000 reviews...\n",
      " Translated 16500 reviews...\n",
      " Translated 17000 reviews...\n",
      " Translated 17500 reviews...\n",
      " Translated 18000 reviews...\n",
      " Translated 18500 reviews...\n",
      " Translated 19000 reviews...\n",
      " Translated 19500 reviews...\n",
      " Translated 20000 reviews...\n",
      " Translated 20500 reviews...\n",
      " Translated 21000 reviews...\n",
      " Translated 21500 reviews...\n",
      " Translated 22000 reviews...\n",
      " Translated 22500 reviews...\n",
      " Translated 23000 reviews...\n",
      " Translated 23500 reviews...\n",
      " Translated 24000 reviews...\n",
      " Translated 24500 reviews...\n",
      " Translated 25000 reviews...\n",
      " Translated 25500 reviews...\n",
      " Translated 26000 reviews...\n",
      " Translated 26500 reviews...\n",
      " Translated 27000 reviews...\n",
      " Translated 27500 reviews...\n",
      " Translated 28000 reviews...\n",
      " Translated 28500 reviews...\n",
      " Translated 29000 reviews...\n",
      " Translated 29500 reviews...\n",
      " Translated 30000 reviews...\n",
      " Translated 30500 reviews...\n",
      " Translated 31000 reviews...\n",
      " Translated 31500 reviews...\n",
      " Translated 32000 reviews...\n",
      " Translated 32500 reviews...\n",
      " Translated 33000 reviews...\n",
      " Translated 33500 reviews...\n",
      " Translated 34000 reviews...\n",
      " Translated 34500 reviews...\n",
      " Translated 35000 reviews...\n",
      " Translated 35500 reviews...\n",
      " Translated 36000 reviews...\n",
      " Translated 36500 reviews...\n",
      " Translated 37000 reviews...\n",
      " Translated 37500 reviews...\n",
      " Translated 38000 reviews...\n",
      " Translated 38500 reviews...\n",
      " Translated 39000 reviews...\n",
      " Translated 39500 reviews...\n",
      " Translated 40000 reviews...\n",
      " Translated 40500 reviews...\n",
      " Translated 41000 reviews...\n"
     ]
    }
   ],
   "source": [
    "batch_size = 500  # Process 500 reviews at a time\n",
    "translated_reviews = []\n",
    "\n",
    "for i in range(0, len(df), batch_size):\n",
    "    batch = df['review_comment_message'].iloc[i:i + batch_size].tolist()\n",
    "    translated_batch = [translate_offline(text) for text in batch]\n",
    "    translated_reviews.extend(translated_batch)\n",
    "    print(f\" Translated {i + batch_size} reviews...\")  # Show progress\n",
    "\n",
    "# Assign translated reviews to DataFrame\n",
    "df['translated_review'] = translated_reviews\n"
   ]
  },
  {
   "cell_type": "code",
   "execution_count": 25,
   "id": "1bbd081a-dc83-4946-90ec-3e43c5d01f4c",
   "metadata": {},
   "outputs": [],
   "source": [
    "# save translated dataset to csv\n",
    "df.to_csv(\"translated_reviews.csv\", index=False, encoding=\"utf-8\")\n"
   ]
  },
  {
   "cell_type": "code",
   "execution_count": 26,
   "id": "8cd4f68a-3328-4603-b841-7ff47deb8869",
   "metadata": {},
   "outputs": [],
   "source": [
    "# import translated data\n",
    "df1 = pd.read_csv(\"translated_reviews.csv\")  # Reloads translated data into df1\n"
   ]
  },
  {
   "cell_type": "code",
   "execution_count": 27,
   "id": "7c887e17-6d2d-4cba-837f-7e611d15e968",
   "metadata": {},
   "outputs": [
    {
     "data": {
      "text/html": [
       "<div>\n",
       "<style scoped>\n",
       "    .dataframe tbody tr th:only-of-type {\n",
       "        vertical-align: middle;\n",
       "    }\n",
       "\n",
       "    .dataframe tbody tr th {\n",
       "        vertical-align: top;\n",
       "    }\n",
       "\n",
       "    .dataframe thead th {\n",
       "        text-align: right;\n",
       "    }\n",
       "</style>\n",
       "<table border=\"1\" class=\"dataframe\">\n",
       "  <thead>\n",
       "    <tr style=\"text-align: right;\">\n",
       "      <th></th>\n",
       "      <th>review_comment_message</th>\n",
       "      <th>sentiment</th>\n",
       "      <th>translated_review</th>\n",
       "    </tr>\n",
       "  </thead>\n",
       "  <tbody>\n",
       "    <tr>\n",
       "      <th>0</th>\n",
       "      <td>Recebi bem antes do prazo estipulado.</td>\n",
       "      <td>Positive</td>\n",
       "      <td>Received well before the stipulated deadline.</td>\n",
       "    </tr>\n",
       "    <tr>\n",
       "      <th>1</th>\n",
       "      <td>Parabéns lojas lannister adorei comprar pela I...</td>\n",
       "      <td>Positive</td>\n",
       "      <td>Congratulations stores lannister I loved to bu...</td>\n",
       "    </tr>\n",
       "    <tr>\n",
       "      <th>2</th>\n",
       "      <td>aparelho eficiente. no site a marca do aparelh...</td>\n",
       "      <td>Positive</td>\n",
       "      <td>On the website the device brand is printed as ...</td>\n",
       "    </tr>\n",
       "    <tr>\n",
       "      <th>3</th>\n",
       "      <td>Mas um pouco ,travando...pelo valor ta Boa.\\r\\n</td>\n",
       "      <td>Positive</td>\n",
       "      <td>But a little , locking...by the ta value Good.</td>\n",
       "    </tr>\n",
       "    <tr>\n",
       "      <th>4</th>\n",
       "      <td>Vendedor confiável, produto ok e entrega antes...</td>\n",
       "      <td>Positive</td>\n",
       "      <td>Reliable salesperson, product ok and delivery ...</td>\n",
       "    </tr>\n",
       "  </tbody>\n",
       "</table>\n",
       "</div>"
      ],
      "text/plain": [
       "                              review_comment_message sentiment  \\\n",
       "0              Recebi bem antes do prazo estipulado.  Positive   \n",
       "1  Parabéns lojas lannister adorei comprar pela I...  Positive   \n",
       "2  aparelho eficiente. no site a marca do aparelh...  Positive   \n",
       "3    Mas um pouco ,travando...pelo valor ta Boa.\\r\\n  Positive   \n",
       "4  Vendedor confiável, produto ok e entrega antes...  Positive   \n",
       "\n",
       "                                   translated_review  \n",
       "0      Received well before the stipulated deadline.  \n",
       "1  Congratulations stores lannister I loved to bu...  \n",
       "2  On the website the device brand is printed as ...  \n",
       "3     But a little , locking...by the ta value Good.  \n",
       "4  Reliable salesperson, product ok and delivery ...  "
      ]
     },
     "execution_count": 27,
     "metadata": {},
     "output_type": "execute_result"
    }
   ],
   "source": [
    "# view first 5 rows\n",
    "df1.head()"
   ]
  },
  {
   "cell_type": "code",
   "execution_count": 28,
   "id": "b8972c26-1b8e-4d55-b075-4437568d0bff",
   "metadata": {},
   "outputs": [
    {
     "name": "stdout",
     "output_type": "stream",
     "text": [
      "<class 'pandas.core.frame.DataFrame'>\n",
      "RangeIndex: 40977 entries, 0 to 40976\n",
      "Data columns (total 3 columns):\n",
      " #   Column                  Non-Null Count  Dtype \n",
      "---  ------                  --------------  ----- \n",
      " 0   review_comment_message  40977 non-null  object\n",
      " 1   sentiment               40977 non-null  object\n",
      " 2   translated_review       40950 non-null  object\n",
      "dtypes: object(3)\n",
      "memory usage: 960.5+ KB\n"
     ]
    }
   ],
   "source": [
    "# data infor\n",
    "df1.info()"
   ]
  },
  {
   "cell_type": "code",
   "execution_count": 33,
   "id": "e2be73e1-dd69-48c5-ba38-87cc17af3279",
   "metadata": {},
   "outputs": [
    {
     "name": "stdout",
     "output_type": "stream",
     "text": [
      "27\n"
     ]
    }
   ],
   "source": [
    "# Check missing values in df1\n",
    "print(df1['translated_review'].isna().sum()) "
   ]
  },
  {
   "cell_type": "code",
   "execution_count": 34,
   "id": "7849b288-2484-4931-b734-3b223b47234e",
   "metadata": {},
   "outputs": [
    {
     "name": "stdout",
     "output_type": "stream",
     "text": [
      "0\n"
     ]
    }
   ],
   "source": [
    "# Re-run translation only for missing rows in df1\n",
    "missing_mask = df1['translated_review'].isna()\n",
    "df1.loc[missing_mask, 'translated_review'] = df1.loc[missing_mask, 'review_comment_message'].apply(translate_offline)\n",
    "\n",
    "# Verify all translations are complete\n",
    "print(df1['translated_review'].isna().sum()) \n"
   ]
  },
  {
   "cell_type": "code",
   "execution_count": 40,
   "id": "9b56676e-d5bc-47dd-96b7-8857524a81ef",
   "metadata": {},
   "outputs": [
    {
     "name": "stdout",
     "output_type": "stream",
     "text": [
      "<class 'pandas.core.frame.DataFrame'>\n",
      "RangeIndex: 40977 entries, 0 to 40976\n",
      "Data columns (total 3 columns):\n",
      " #   Column                  Non-Null Count  Dtype \n",
      "---  ------                  --------------  ----- \n",
      " 0   review_comment_message  40977 non-null  object\n",
      " 1   sentiment               40977 non-null  object\n",
      " 2   translated_review       40977 non-null  object\n",
      "dtypes: object(3)\n",
      "memory usage: 960.5+ KB\n"
     ]
    }
   ],
   "source": [
    "# check if there are missing values after translating the 27\n",
    "df1.info()"
   ]
  },
  {
   "cell_type": "code",
   "execution_count": 43,
   "id": "3f790888-a160-489b-8b5e-1a5ef6c2a425",
   "metadata": {},
   "outputs": [
    {
     "data": {
      "text/html": [
       "<div>\n",
       "<style scoped>\n",
       "    .dataframe tbody tr th:only-of-type {\n",
       "        vertical-align: middle;\n",
       "    }\n",
       "\n",
       "    .dataframe tbody tr th {\n",
       "        vertical-align: top;\n",
       "    }\n",
       "\n",
       "    .dataframe thead th {\n",
       "        text-align: right;\n",
       "    }\n",
       "</style>\n",
       "<table border=\"1\" class=\"dataframe\">\n",
       "  <thead>\n",
       "    <tr style=\"text-align: right;\">\n",
       "      <th></th>\n",
       "      <th>review_comment_message</th>\n",
       "      <th>sentiment</th>\n",
       "      <th>translated_review</th>\n",
       "    </tr>\n",
       "  </thead>\n",
       "  <tbody>\n",
       "    <tr>\n",
       "      <th>40972</th>\n",
       "      <td>para este produto recebi de acordo com a compr...</td>\n",
       "      <td>Positive</td>\n",
       "      <td>I received this product according to the purch...</td>\n",
       "    </tr>\n",
       "    <tr>\n",
       "      <th>40973</th>\n",
       "      <td>Entregou dentro do prazo. O produto chegou em ...</td>\n",
       "      <td>Positive</td>\n",
       "      <td>It delivered within the deadline. The product ...</td>\n",
       "    </tr>\n",
       "    <tr>\n",
       "      <th>40974</th>\n",
       "      <td>O produto não foi enviado com NF, não existe v...</td>\n",
       "      <td>Neutral</td>\n",
       "      <td>The product was not sent with NF, there is no ...</td>\n",
       "    </tr>\n",
       "    <tr>\n",
       "      <th>40975</th>\n",
       "      <td>Excelente mochila, entrega super rápida. Super...</td>\n",
       "      <td>Positive</td>\n",
       "      <td>Great backpack, very fast delivery.I am recomm...</td>\n",
       "    </tr>\n",
       "    <tr>\n",
       "      <th>40976</th>\n",
       "      <td>meu produto chegou e ja tenho que devolver, po...</td>\n",
       "      <td>Negative</td>\n",
       "      <td>I have to return it, because it is defective , no</td>\n",
       "    </tr>\n",
       "  </tbody>\n",
       "</table>\n",
       "</div>"
      ],
      "text/plain": [
       "                                  review_comment_message sentiment  \\\n",
       "40972  para este produto recebi de acordo com a compr...  Positive   \n",
       "40973  Entregou dentro do prazo. O produto chegou em ...  Positive   \n",
       "40974  O produto não foi enviado com NF, não existe v...   Neutral   \n",
       "40975  Excelente mochila, entrega super rápida. Super...  Positive   \n",
       "40976  meu produto chegou e ja tenho que devolver, po...  Negative   \n",
       "\n",
       "                                       translated_review  \n",
       "40972  I received this product according to the purch...  \n",
       "40973  It delivered within the deadline. The product ...  \n",
       "40974  The product was not sent with NF, there is no ...  \n",
       "40975  Great backpack, very fast delivery.I am recomm...  \n",
       "40976  I have to return it, because it is defective , no  "
      ]
     },
     "execution_count": 43,
     "metadata": {},
     "output_type": "execute_result"
    }
   ],
   "source": [
    "df1.tail()"
   ]
  },
  {
   "cell_type": "markdown",
   "id": "a9275e31-7c7c-421b-ae4f-8a5976cf23b4",
   "metadata": {},
   "source": [
    "#### Text Processing after reviews are translated\n",
    "\n",
    "Remove stop words\n",
    "\n",
    "bag of words\n",
    "\n",
    "TFIDF\n"
   ]
  },
  {
   "cell_type": "code",
   "execution_count": 64,
   "id": "1bbc234e-68bb-49f4-a563-da7a211d6e3e",
   "metadata": {},
   "outputs": [
    {
     "data": {
      "text/plain": [
       "['The',\n",
       " 'product',\n",
       " 'arrived',\n",
       " 'late',\n",
       " 'and',\n",
       " 'the',\n",
       " 'quality',\n",
       " 'is',\n",
       " 'not',\n",
       " 'as',\n",
       " 'expected',\n",
       " '.',\n",
       " 'Very',\n",
       " 'disappointed',\n",
       " '.']"
      ]
     },
     "execution_count": 64,
     "metadata": {},
     "output_type": "execute_result"
    }
   ],
   "source": [
    "text = \"The product arrived late and the quality is not as expected. Very disappointed.\"\n",
    "\n",
    "# Tokenize the split: split into list of words\n",
    "words=nltk.word_tokenize(text)\n",
    "\n",
    "words"
   ]
  },
  {
   "cell_type": "code",
   "execution_count": null,
   "id": "aef67413-8ec4-47f5-a584-de5d538b06a8",
   "metadata": {},
   "outputs": [],
   "source": [
    "# Define stop words, but keep negation words\n",
    "#negation_words = {\"no\", \"not\", \"nor\", \"never\", \"none\", \"isn't\", \"wasn't\", \"won't\", \"don't\"}\n",
    "#stop_words = set(stopwords.words(\"english\")) - negation_words  # Exclude negation words"
   ]
  },
  {
   "cell_type": "code",
   "execution_count": 71,
   "id": "ed8753fc-98e0-4f31-9651-b74b6e5a5169",
   "metadata": {},
   "outputs": [],
   "source": [
    "# Define stop words\n",
    "stop_words = set(stopwords.words(\"english\"))"
   ]
  },
  {
   "cell_type": "code",
   "execution_count": 72,
   "id": "3e1bcbc5-7671-4ac4-8bee-d223712dbe2f",
   "metadata": {},
   "outputs": [
    {
     "data": {
      "text/plain": [
       "['The',\n",
       " 'product',\n",
       " 'arrived',\n",
       " 'late',\n",
       " 'quality',\n",
       " 'expected',\n",
       " '.',\n",
       " 'Very',\n",
       " 'disappointed',\n",
       " '.']"
      ]
     },
     "execution_count": 72,
     "metadata": {},
     "output_type": "execute_result"
    }
   ],
   "source": [
    "# filtering stopwords\n",
    "filtered_words = [word for word in words if word not in stop_words]\n",
    "filtered_words "
   ]
  },
  {
   "cell_type": "code",
   "execution_count": 73,
   "id": "31312424-3df7-4e57-8f52-0d84757f4a63",
   "metadata": {},
   "outputs": [
    {
     "data": {
      "text/plain": [
       "'The product arrived late quality expected . Very disappointed .'"
      ]
     },
     "execution_count": 73,
     "metadata": {},
     "output_type": "execute_result"
    }
   ],
   "source": [
    "# reconstruct the list to the list to a sentence using join method\n",
    "filtered_text = \" \".join(filtered_words)\n",
    "\n",
    "filtered_text"
   ]
  },
  {
   "cell_type": "code",
   "execution_count": 74,
   "id": "d7694db6-4864-4ad9-8bfd-e0355032f331",
   "metadata": {},
   "outputs": [],
   "source": [
    "# create a function to handle this\n",
    "def remove_stopwords(text):\n",
    "    \"\"\"\n",
    "    This function takes in a sentence,\n",
    "    tokenizes the sentence,\n",
    "    filters out stopwords, and returns a more compact sentence.\n",
    "    \"\"\"\n",
    "    words = nltk.word_tokenize(text)\n",
    "    filtered_words = [word for word in words if word not in stop_words]\n",
    "    filtered_text = \" \".join(filtered_words)\n",
    "    return filtered_text\n"
   ]
  },
  {
   "cell_type": "code",
   "execution_count": 75,
   "id": "0c31d9a8-e73b-47b2-a013-fb81e22a951b",
   "metadata": {},
   "outputs": [
    {
     "data": {
      "text/plain": [
       "'The product arrived late quality expected . Very disappointed .'"
      ]
     },
     "execution_count": 75,
     "metadata": {},
     "output_type": "execute_result"
    }
   ],
   "source": [
    "# run the function created \n",
    "remove_stopwords(text)"
   ]
  },
  {
   "cell_type": "code",
   "execution_count": 76,
   "id": "4f1cc71c-4bf5-4a65-94ab-31ad58b82771",
   "metadata": {},
   "outputs": [
    {
     "data": {
      "text/plain": [
       "0                  Received well stipulated deadline .\n",
       "1    Congratulations stores lannister I loved buy I...\n",
       "2          On website device brand printed 3deinfector\n",
       "3             But little , locking ... ta value Good .\n",
       "4           Reliable salesperson , product ok delivery\n",
       "Name: translated_review, dtype: object"
      ]
     },
     "execution_count": 76,
     "metadata": {},
     "output_type": "execute_result"
    }
   ],
   "source": [
    "# test out the function on some of the reviews in our data\n",
    "df1['translated_review'].head().apply(remove_stopwords)"
   ]
  },
  {
   "cell_type": "code",
   "execution_count": 77,
   "id": "f3d43c16-f7c4-4ce1-a1d5-3054c2c26883",
   "metadata": {},
   "outputs": [
    {
     "data": {
      "text/plain": [
       "0        Received well before the stipulated deadline.\n",
       "1    Congratulations stores lannister I loved to bu...\n",
       "2    On the website the device brand is printed as ...\n",
       "3       But a little , locking...by the ta value Good.\n",
       "4    Reliable salesperson, product ok and delivery ...\n",
       "Name: translated_review, dtype: object"
      ]
     },
     "execution_count": 77,
     "metadata": {},
     "output_type": "execute_result"
    }
   ],
   "source": [
    "df1['translated_review'].head()"
   ]
  },
  {
   "cell_type": "code",
   "execution_count": 78,
   "id": "40d1b43f-fb9a-4b66-becb-f190c07075af",
   "metadata": {},
   "outputs": [
    {
     "name": "stderr",
     "output_type": "stream",
     "text": [
      "100%|█████████████████████████████████████████████████████████████████████████| 40977/40977 [00:02<00:00, 18928.88it/s]\n"
     ]
    }
   ],
   "source": [
    "# set up a progress bar\n",
    "from tqdm import tqdm \n",
    "\n",
    "total_rows = len(df1)\n",
    "tqdm.pandas(total=total_rows)  # Initialize tqdm with total rows\n",
    "\n",
    "df1['stop_words'] = df1['translated_review'].progress_apply(remove_stopwords)\n"
   ]
  },
  {
   "cell_type": "code",
   "execution_count": 79,
   "id": "4f9c4dcd-9c10-4cbe-b553-4c065a269bb5",
   "metadata": {},
   "outputs": [
    {
     "data": {
      "text/html": [
       "<div>\n",
       "<style scoped>\n",
       "    .dataframe tbody tr th:only-of-type {\n",
       "        vertical-align: middle;\n",
       "    }\n",
       "\n",
       "    .dataframe tbody tr th {\n",
       "        vertical-align: top;\n",
       "    }\n",
       "\n",
       "    .dataframe thead th {\n",
       "        text-align: right;\n",
       "    }\n",
       "</style>\n",
       "<table border=\"1\" class=\"dataframe\">\n",
       "  <thead>\n",
       "    <tr style=\"text-align: right;\">\n",
       "      <th></th>\n",
       "      <th>review_comment_message</th>\n",
       "      <th>sentiment</th>\n",
       "      <th>translated_review</th>\n",
       "      <th>stop_words</th>\n",
       "    </tr>\n",
       "  </thead>\n",
       "  <tbody>\n",
       "    <tr>\n",
       "      <th>0</th>\n",
       "      <td>Recebi bem antes do prazo estipulado.</td>\n",
       "      <td>Positive</td>\n",
       "      <td>Received well before the stipulated deadline.</td>\n",
       "      <td>Received well stipulated deadline .</td>\n",
       "    </tr>\n",
       "    <tr>\n",
       "      <th>1</th>\n",
       "      <td>Parabéns lojas lannister adorei comprar pela I...</td>\n",
       "      <td>Positive</td>\n",
       "      <td>Congratulations stores lannister I loved to bu...</td>\n",
       "      <td>Congratulations stores lannister I loved buy I...</td>\n",
       "    </tr>\n",
       "    <tr>\n",
       "      <th>2</th>\n",
       "      <td>aparelho eficiente. no site a marca do aparelh...</td>\n",
       "      <td>Positive</td>\n",
       "      <td>On the website the device brand is printed as ...</td>\n",
       "      <td>On website device brand printed 3deinfector</td>\n",
       "    </tr>\n",
       "    <tr>\n",
       "      <th>3</th>\n",
       "      <td>Mas um pouco ,travando...pelo valor ta Boa.\\r\\n</td>\n",
       "      <td>Positive</td>\n",
       "      <td>But a little , locking...by the ta value Good.</td>\n",
       "      <td>But little , locking ... ta value Good .</td>\n",
       "    </tr>\n",
       "    <tr>\n",
       "      <th>4</th>\n",
       "      <td>Vendedor confiável, produto ok e entrega antes...</td>\n",
       "      <td>Positive</td>\n",
       "      <td>Reliable salesperson, product ok and delivery ...</td>\n",
       "      <td>Reliable salesperson , product ok delivery</td>\n",
       "    </tr>\n",
       "    <tr>\n",
       "      <th>...</th>\n",
       "      <td>...</td>\n",
       "      <td>...</td>\n",
       "      <td>...</td>\n",
       "      <td>...</td>\n",
       "    </tr>\n",
       "    <tr>\n",
       "      <th>40972</th>\n",
       "      <td>para este produto recebi de acordo com a compr...</td>\n",
       "      <td>Positive</td>\n",
       "      <td>I received this product according to the purch...</td>\n",
       "      <td>I received product according purchase</td>\n",
       "    </tr>\n",
       "    <tr>\n",
       "      <th>40973</th>\n",
       "      <td>Entregou dentro do prazo. O produto chegou em ...</td>\n",
       "      <td>Positive</td>\n",
       "      <td>It delivered within the deadline. The product ...</td>\n",
       "      <td>It delivered within deadline . The product arr...</td>\n",
       "    </tr>\n",
       "    <tr>\n",
       "      <th>40974</th>\n",
       "      <td>O produto não foi enviado com NF, não existe v...</td>\n",
       "      <td>Neutral</td>\n",
       "      <td>The product was not sent with NF, there is no ...</td>\n",
       "      <td>The product sent NF , sale</td>\n",
       "    </tr>\n",
       "    <tr>\n",
       "      <th>40975</th>\n",
       "      <td>Excelente mochila, entrega super rápida. Super...</td>\n",
       "      <td>Positive</td>\n",
       "      <td>Great backpack, very fast delivery.I am recomm...</td>\n",
       "      <td>Great backpack , fast delivery.I recommending</td>\n",
       "    </tr>\n",
       "    <tr>\n",
       "      <th>40976</th>\n",
       "      <td>meu produto chegou e ja tenho que devolver, po...</td>\n",
       "      <td>Negative</td>\n",
       "      <td>I have to return it, because it is defective , no</td>\n",
       "      <td>I return , defective ,</td>\n",
       "    </tr>\n",
       "  </tbody>\n",
       "</table>\n",
       "<p>40977 rows × 4 columns</p>\n",
       "</div>"
      ],
      "text/plain": [
       "                                  review_comment_message sentiment  \\\n",
       "0                  Recebi bem antes do prazo estipulado.  Positive   \n",
       "1      Parabéns lojas lannister adorei comprar pela I...  Positive   \n",
       "2      aparelho eficiente. no site a marca do aparelh...  Positive   \n",
       "3        Mas um pouco ,travando...pelo valor ta Boa.\\r\\n  Positive   \n",
       "4      Vendedor confiável, produto ok e entrega antes...  Positive   \n",
       "...                                                  ...       ...   \n",
       "40972  para este produto recebi de acordo com a compr...  Positive   \n",
       "40973  Entregou dentro do prazo. O produto chegou em ...  Positive   \n",
       "40974  O produto não foi enviado com NF, não existe v...   Neutral   \n",
       "40975  Excelente mochila, entrega super rápida. Super...  Positive   \n",
       "40976  meu produto chegou e ja tenho que devolver, po...  Negative   \n",
       "\n",
       "                                       translated_review  \\\n",
       "0          Received well before the stipulated deadline.   \n",
       "1      Congratulations stores lannister I loved to bu...   \n",
       "2      On the website the device brand is printed as ...   \n",
       "3         But a little , locking...by the ta value Good.   \n",
       "4      Reliable salesperson, product ok and delivery ...   \n",
       "...                                                  ...   \n",
       "40972  I received this product according to the purch...   \n",
       "40973  It delivered within the deadline. The product ...   \n",
       "40974  The product was not sent with NF, there is no ...   \n",
       "40975  Great backpack, very fast delivery.I am recomm...   \n",
       "40976  I have to return it, because it is defective , no   \n",
       "\n",
       "                                              stop_words  \n",
       "0                    Received well stipulated deadline .  \n",
       "1      Congratulations stores lannister I loved buy I...  \n",
       "2            On website device brand printed 3deinfector  \n",
       "3               But little , locking ... ta value Good .  \n",
       "4             Reliable salesperson , product ok delivery  \n",
       "...                                                  ...  \n",
       "40972              I received product according purchase  \n",
       "40973  It delivered within deadline . The product arr...  \n",
       "40974                         The product sent NF , sale  \n",
       "40975      Great backpack , fast delivery.I recommending  \n",
       "40976                             I return , defective ,  \n",
       "\n",
       "[40977 rows x 4 columns]"
      ]
     },
     "execution_count": 79,
     "metadata": {},
     "output_type": "execute_result"
    }
   ],
   "source": [
    "df1"
   ]
  },
  {
   "cell_type": "code",
   "execution_count": 85,
   "id": "a33f2024-6aad-407a-aeb9-38a29da9795b",
   "metadata": {},
   "outputs": [
    {
     "name": "stdout",
     "output_type": "stream",
     "text": [
      "Train size: (32781, 4) Test size: (8196, 4)\n"
     ]
    }
   ],
   "source": [
    "from sklearn.model_selection import train_test_split\n",
    "\n",
    "# Split data into training and testing sets (80% train, 20% test)\n",
    "train_data, test_data = train_test_split(df1, test_size=0.2, random_state=42)\n",
    "\n",
    "# Check the shape\n",
    "print(\"Train size:\", train_data.shape, \"Test size:\", test_data.shape)\n"
   ]
  },
  {
   "cell_type": "markdown",
   "id": "6343184f-3e1b-4e1d-93a8-275ab3dd950a",
   "metadata": {},
   "source": [
    "#### Bag of Words (BoW) Transformation:"
   ]
  },
  {
   "cell_type": "code",
   "execution_count": 83,
   "id": "57370136-3d65-4f42-980a-96a20c928ce2",
   "metadata": {},
   "outputs": [],
   "source": [
    "from sklearn.feature_extraction.text import CountVectorizer  # for creating bag of words\n",
    "\n",
    "# Initialize CountVectorizer\n",
    "vectorizer = CountVectorizer()\n",
    "\n",
    "# Fit and transform on training data\n",
    "train_bow = vectorizer.fit_transform(train_data['stop_words'])\n",
    "\n",
    "# Transform test data using the same vectorizer\n",
    "test_bow = vectorizer.transform(test_data['stop_words'])\n"
   ]
  },
  {
   "cell_type": "markdown",
   "id": "8dd81ced-7f72-4614-aede-78de63c35eb9",
   "metadata": {},
   "source": [
    "#### TF-IDF Transformation:creating tfidf  from stopwords"
   ]
  },
  {
   "cell_type": "code",
   "execution_count": 84,
   "id": "8d34b508-7319-477c-98d5-b6109ece9164",
   "metadata": {},
   "outputs": [],
   "source": [
    "from sklearn.feature_extraction.text import TfidfVectorizer  # creating tf-idf\n",
    "\n",
    "# Initialize TfidfVectorizer\n",
    "tfidf_vectorizer = TfidfVectorizer()\n",
    "\n",
    "# Fit and transform on training data\n",
    "train_tfidf = tfidf_vectorizer.fit_transform(train_data['stop_words'])\n",
    "\n",
    "# Transform test data using the same vectorizer\n",
    "test_tfidf = tfidf_vectorizer.transform(test_data['stop_words'])\n"
   ]
  },
  {
   "cell_type": "markdown",
   "id": "85ed4b12-eb5c-4a0b-ba5c-cf8dd83c563b",
   "metadata": {},
   "source": [
    "# Modeling\n",
    "#### Vader on normal sentences\n",
    "#### vader on sentences without stop words\n",
    "#### custom on train_tfidf\n",
    "#### custom on train_bow"
   ]
  },
  {
   "cell_type": "code",
   "execution_count": 86,
   "id": "1a3fda69-c870-40eb-9020-8b9b0d1ce55d",
   "metadata": {},
   "outputs": [
    {
     "name": "stderr",
     "output_type": "stream",
     "text": [
      "[nltk_data] Downloading package vader_lexicon to\n",
      "[nltk_data]     C:\\Users\\hp\\AppData\\Roaming\\nltk_data...\n",
      "[nltk_data]   Package vader_lexicon is already up-to-date!\n"
     ]
    }
   ],
   "source": [
    "# Vader on normal sentences\n",
    "import nltk\n",
    "nltk.download(\"vader_lexicon\")\n",
    "\n",
    "# From Vader sentiment analyzer\n",
    "from nltk.sentiment.vader import SentimentIntensityAnalyzer\n"
   ]
  },
  {
   "cell_type": "code",
   "execution_count": null,
   "id": "78a970a9-60d6-45d6-beee-a7cefbd5ed1a",
   "metadata": {},
   "outputs": [],
   "source": [
    "### Define the Sentiment Analysis Function for three classes (Positive, Neutral, Negative)"
   ]
  },
  {
   "cell_type": "code",
   "execution_count": 87,
   "id": "1c6d5247-6678-4dc1-b6e9-a1e5fd431538",
   "metadata": {},
   "outputs": [],
   "source": [
    "# Initialize VADER SentimentIntensityAnalyzer\n",
    "analyzer = SentimentIntensityAnalyzer()\n",
    "\n",
    "def analyze_sentence(sentence):\n",
    "    \"\"\"\n",
    "    Takes a sentence, gets the sentiment score using VADER,\n",
    "    and returns 'Positive', 'Neutral', or 'Negative'\n",
    "    based on the compound score.\n",
    "    \"\"\"\n",
    "    sentiment_scores = analyzer.polarity_scores(sentence)\n",
    "    compound_score = sentiment_scores['compound']\n",
    "    \n",
    "    if compound_score >= 0.05:\n",
    "        return \"Positive\"\n",
    "    elif compound_score <= -0.05:\n",
    "        return \"Negative\"\n",
    "    else:\n",
    "        return \"Neutral\"\n"
   ]
  },
  {
   "cell_type": "code",
   "execution_count": 88,
   "id": "53d2ba8f-77ea-4f65-a43c-991ce5d8959a",
   "metadata": {},
   "outputs": [],
   "source": [
    "# vader on translated review\n",
    "test_data['vader_on_text'] = test_data['translated_review'].apply(analyze_sentence)"
   ]
  },
  {
   "cell_type": "code",
   "execution_count": 89,
   "id": "57a6c5fe-a69b-417b-befc-4f586c90e425",
   "metadata": {},
   "outputs": [],
   "source": [
    "# vader on stop words\n",
    "test_data['vader_on_text_without_stopwords'] = test_data['stop_words'].apply(analyze_sentence)"
   ]
  },
  {
   "cell_type": "code",
   "execution_count": null,
   "id": "387bb8ef-0d8e-455a-b8bf-8c052c815e65",
   "metadata": {},
   "outputs": [],
   "source": [
    "# training custom models on bag of words and tf-idf"
   ]
  },
  {
   "cell_type": "code",
   "execution_count": 91,
   "id": "7624febc-4e84-430e-9d0a-5d71af9f34e7",
   "metadata": {},
   "outputs": [
    {
     "data": {
      "text/plain": [
       "<32781x7797 sparse matrix of type '<class 'numpy.float64'>'\n",
       "\twith 135578 stored elements in Compressed Sparse Row format>"
      ]
     },
     "execution_count": 91,
     "metadata": {},
     "output_type": "execute_result"
    }
   ],
   "source": [
    "train_tfidf"
   ]
  },
  {
   "cell_type": "code",
   "execution_count": 92,
   "id": "640b0c42-03ec-481c-af2f-70f31f550a7a",
   "metadata": {},
   "outputs": [
    {
     "data": {
      "text/plain": [
       "<32781x7797 sparse matrix of type '<class 'numpy.int64'>'\n",
       "\twith 135578 stored elements in Compressed Sparse Row format>"
      ]
     },
     "execution_count": 92,
     "metadata": {},
     "output_type": "execute_result"
    }
   ],
   "source": [
    "train_bow"
   ]
  },
  {
   "cell_type": "markdown",
   "id": "43662278-be9d-40bd-8044-b6fef78bbbfb",
   "metadata": {},
   "source": [
    "# creating custom model"
   ]
  },
  {
   "cell_type": "code",
   "execution_count": 93,
   "id": "e51c399c-1bd5-4d32-9b97-a323e33b1fef",
   "metadata": {},
   "outputs": [
    {
     "data": {
      "text/html": [
       "<style>#sk-container-id-1 {\n",
       "  /* Definition of color scheme common for light and dark mode */\n",
       "  --sklearn-color-text: #000;\n",
       "  --sklearn-color-text-muted: #666;\n",
       "  --sklearn-color-line: gray;\n",
       "  /* Definition of color scheme for unfitted estimators */\n",
       "  --sklearn-color-unfitted-level-0: #fff5e6;\n",
       "  --sklearn-color-unfitted-level-1: #f6e4d2;\n",
       "  --sklearn-color-unfitted-level-2: #ffe0b3;\n",
       "  --sklearn-color-unfitted-level-3: chocolate;\n",
       "  /* Definition of color scheme for fitted estimators */\n",
       "  --sklearn-color-fitted-level-0: #f0f8ff;\n",
       "  --sklearn-color-fitted-level-1: #d4ebff;\n",
       "  --sklearn-color-fitted-level-2: #b3dbfd;\n",
       "  --sklearn-color-fitted-level-3: cornflowerblue;\n",
       "\n",
       "  /* Specific color for light theme */\n",
       "  --sklearn-color-text-on-default-background: var(--sg-text-color, var(--theme-code-foreground, var(--jp-content-font-color1, black)));\n",
       "  --sklearn-color-background: var(--sg-background-color, var(--theme-background, var(--jp-layout-color0, white)));\n",
       "  --sklearn-color-border-box: var(--sg-text-color, var(--theme-code-foreground, var(--jp-content-font-color1, black)));\n",
       "  --sklearn-color-icon: #696969;\n",
       "\n",
       "  @media (prefers-color-scheme: dark) {\n",
       "    /* Redefinition of color scheme for dark theme */\n",
       "    --sklearn-color-text-on-default-background: var(--sg-text-color, var(--theme-code-foreground, var(--jp-content-font-color1, white)));\n",
       "    --sklearn-color-background: var(--sg-background-color, var(--theme-background, var(--jp-layout-color0, #111)));\n",
       "    --sklearn-color-border-box: var(--sg-text-color, var(--theme-code-foreground, var(--jp-content-font-color1, white)));\n",
       "    --sklearn-color-icon: #878787;\n",
       "  }\n",
       "}\n",
       "\n",
       "#sk-container-id-1 {\n",
       "  color: var(--sklearn-color-text);\n",
       "}\n",
       "\n",
       "#sk-container-id-1 pre {\n",
       "  padding: 0;\n",
       "}\n",
       "\n",
       "#sk-container-id-1 input.sk-hidden--visually {\n",
       "  border: 0;\n",
       "  clip: rect(1px 1px 1px 1px);\n",
       "  clip: rect(1px, 1px, 1px, 1px);\n",
       "  height: 1px;\n",
       "  margin: -1px;\n",
       "  overflow: hidden;\n",
       "  padding: 0;\n",
       "  position: absolute;\n",
       "  width: 1px;\n",
       "}\n",
       "\n",
       "#sk-container-id-1 div.sk-dashed-wrapped {\n",
       "  border: 1px dashed var(--sklearn-color-line);\n",
       "  margin: 0 0.4em 0.5em 0.4em;\n",
       "  box-sizing: border-box;\n",
       "  padding-bottom: 0.4em;\n",
       "  background-color: var(--sklearn-color-background);\n",
       "}\n",
       "\n",
       "#sk-container-id-1 div.sk-container {\n",
       "  /* jupyter's `normalize.less` sets `[hidden] { display: none; }`\n",
       "     but bootstrap.min.css set `[hidden] { display: none !important; }`\n",
       "     so we also need the `!important` here to be able to override the\n",
       "     default hidden behavior on the sphinx rendered scikit-learn.org.\n",
       "     See: https://github.com/scikit-learn/scikit-learn/issues/21755 */\n",
       "  display: inline-block !important;\n",
       "  position: relative;\n",
       "}\n",
       "\n",
       "#sk-container-id-1 div.sk-text-repr-fallback {\n",
       "  display: none;\n",
       "}\n",
       "\n",
       "div.sk-parallel-item,\n",
       "div.sk-serial,\n",
       "div.sk-item {\n",
       "  /* draw centered vertical line to link estimators */\n",
       "  background-image: linear-gradient(var(--sklearn-color-text-on-default-background), var(--sklearn-color-text-on-default-background));\n",
       "  background-size: 2px 100%;\n",
       "  background-repeat: no-repeat;\n",
       "  background-position: center center;\n",
       "}\n",
       "\n",
       "/* Parallel-specific style estimator block */\n",
       "\n",
       "#sk-container-id-1 div.sk-parallel-item::after {\n",
       "  content: \"\";\n",
       "  width: 100%;\n",
       "  border-bottom: 2px solid var(--sklearn-color-text-on-default-background);\n",
       "  flex-grow: 1;\n",
       "}\n",
       "\n",
       "#sk-container-id-1 div.sk-parallel {\n",
       "  display: flex;\n",
       "  align-items: stretch;\n",
       "  justify-content: center;\n",
       "  background-color: var(--sklearn-color-background);\n",
       "  position: relative;\n",
       "}\n",
       "\n",
       "#sk-container-id-1 div.sk-parallel-item {\n",
       "  display: flex;\n",
       "  flex-direction: column;\n",
       "}\n",
       "\n",
       "#sk-container-id-1 div.sk-parallel-item:first-child::after {\n",
       "  align-self: flex-end;\n",
       "  width: 50%;\n",
       "}\n",
       "\n",
       "#sk-container-id-1 div.sk-parallel-item:last-child::after {\n",
       "  align-self: flex-start;\n",
       "  width: 50%;\n",
       "}\n",
       "\n",
       "#sk-container-id-1 div.sk-parallel-item:only-child::after {\n",
       "  width: 0;\n",
       "}\n",
       "\n",
       "/* Serial-specific style estimator block */\n",
       "\n",
       "#sk-container-id-1 div.sk-serial {\n",
       "  display: flex;\n",
       "  flex-direction: column;\n",
       "  align-items: center;\n",
       "  background-color: var(--sklearn-color-background);\n",
       "  padding-right: 1em;\n",
       "  padding-left: 1em;\n",
       "}\n",
       "\n",
       "\n",
       "/* Toggleable style: style used for estimator/Pipeline/ColumnTransformer box that is\n",
       "clickable and can be expanded/collapsed.\n",
       "- Pipeline and ColumnTransformer use this feature and define the default style\n",
       "- Estimators will overwrite some part of the style using the `sk-estimator` class\n",
       "*/\n",
       "\n",
       "/* Pipeline and ColumnTransformer style (default) */\n",
       "\n",
       "#sk-container-id-1 div.sk-toggleable {\n",
       "  /* Default theme specific background. It is overwritten whether we have a\n",
       "  specific estimator or a Pipeline/ColumnTransformer */\n",
       "  background-color: var(--sklearn-color-background);\n",
       "}\n",
       "\n",
       "/* Toggleable label */\n",
       "#sk-container-id-1 label.sk-toggleable__label {\n",
       "  cursor: pointer;\n",
       "  display: flex;\n",
       "  width: 100%;\n",
       "  margin-bottom: 0;\n",
       "  padding: 0.5em;\n",
       "  box-sizing: border-box;\n",
       "  text-align: center;\n",
       "  align-items: start;\n",
       "  justify-content: space-between;\n",
       "  gap: 0.5em;\n",
       "}\n",
       "\n",
       "#sk-container-id-1 label.sk-toggleable__label .caption {\n",
       "  font-size: 0.6rem;\n",
       "  font-weight: lighter;\n",
       "  color: var(--sklearn-color-text-muted);\n",
       "}\n",
       "\n",
       "#sk-container-id-1 label.sk-toggleable__label-arrow:before {\n",
       "  /* Arrow on the left of the label */\n",
       "  content: \"▸\";\n",
       "  float: left;\n",
       "  margin-right: 0.25em;\n",
       "  color: var(--sklearn-color-icon);\n",
       "}\n",
       "\n",
       "#sk-container-id-1 label.sk-toggleable__label-arrow:hover:before {\n",
       "  color: var(--sklearn-color-text);\n",
       "}\n",
       "\n",
       "/* Toggleable content - dropdown */\n",
       "\n",
       "#sk-container-id-1 div.sk-toggleable__content {\n",
       "  max-height: 0;\n",
       "  max-width: 0;\n",
       "  overflow: hidden;\n",
       "  text-align: left;\n",
       "  /* unfitted */\n",
       "  background-color: var(--sklearn-color-unfitted-level-0);\n",
       "}\n",
       "\n",
       "#sk-container-id-1 div.sk-toggleable__content.fitted {\n",
       "  /* fitted */\n",
       "  background-color: var(--sklearn-color-fitted-level-0);\n",
       "}\n",
       "\n",
       "#sk-container-id-1 div.sk-toggleable__content pre {\n",
       "  margin: 0.2em;\n",
       "  border-radius: 0.25em;\n",
       "  color: var(--sklearn-color-text);\n",
       "  /* unfitted */\n",
       "  background-color: var(--sklearn-color-unfitted-level-0);\n",
       "}\n",
       "\n",
       "#sk-container-id-1 div.sk-toggleable__content.fitted pre {\n",
       "  /* unfitted */\n",
       "  background-color: var(--sklearn-color-fitted-level-0);\n",
       "}\n",
       "\n",
       "#sk-container-id-1 input.sk-toggleable__control:checked~div.sk-toggleable__content {\n",
       "  /* Expand drop-down */\n",
       "  max-height: 200px;\n",
       "  max-width: 100%;\n",
       "  overflow: auto;\n",
       "}\n",
       "\n",
       "#sk-container-id-1 input.sk-toggleable__control:checked~label.sk-toggleable__label-arrow:before {\n",
       "  content: \"▾\";\n",
       "}\n",
       "\n",
       "/* Pipeline/ColumnTransformer-specific style */\n",
       "\n",
       "#sk-container-id-1 div.sk-label input.sk-toggleable__control:checked~label.sk-toggleable__label {\n",
       "  color: var(--sklearn-color-text);\n",
       "  background-color: var(--sklearn-color-unfitted-level-2);\n",
       "}\n",
       "\n",
       "#sk-container-id-1 div.sk-label.fitted input.sk-toggleable__control:checked~label.sk-toggleable__label {\n",
       "  background-color: var(--sklearn-color-fitted-level-2);\n",
       "}\n",
       "\n",
       "/* Estimator-specific style */\n",
       "\n",
       "/* Colorize estimator box */\n",
       "#sk-container-id-1 div.sk-estimator input.sk-toggleable__control:checked~label.sk-toggleable__label {\n",
       "  /* unfitted */\n",
       "  background-color: var(--sklearn-color-unfitted-level-2);\n",
       "}\n",
       "\n",
       "#sk-container-id-1 div.sk-estimator.fitted input.sk-toggleable__control:checked~label.sk-toggleable__label {\n",
       "  /* fitted */\n",
       "  background-color: var(--sklearn-color-fitted-level-2);\n",
       "}\n",
       "\n",
       "#sk-container-id-1 div.sk-label label.sk-toggleable__label,\n",
       "#sk-container-id-1 div.sk-label label {\n",
       "  /* The background is the default theme color */\n",
       "  color: var(--sklearn-color-text-on-default-background);\n",
       "}\n",
       "\n",
       "/* On hover, darken the color of the background */\n",
       "#sk-container-id-1 div.sk-label:hover label.sk-toggleable__label {\n",
       "  color: var(--sklearn-color-text);\n",
       "  background-color: var(--sklearn-color-unfitted-level-2);\n",
       "}\n",
       "\n",
       "/* Label box, darken color on hover, fitted */\n",
       "#sk-container-id-1 div.sk-label.fitted:hover label.sk-toggleable__label.fitted {\n",
       "  color: var(--sklearn-color-text);\n",
       "  background-color: var(--sklearn-color-fitted-level-2);\n",
       "}\n",
       "\n",
       "/* Estimator label */\n",
       "\n",
       "#sk-container-id-1 div.sk-label label {\n",
       "  font-family: monospace;\n",
       "  font-weight: bold;\n",
       "  display: inline-block;\n",
       "  line-height: 1.2em;\n",
       "}\n",
       "\n",
       "#sk-container-id-1 div.sk-label-container {\n",
       "  text-align: center;\n",
       "}\n",
       "\n",
       "/* Estimator-specific */\n",
       "#sk-container-id-1 div.sk-estimator {\n",
       "  font-family: monospace;\n",
       "  border: 1px dotted var(--sklearn-color-border-box);\n",
       "  border-radius: 0.25em;\n",
       "  box-sizing: border-box;\n",
       "  margin-bottom: 0.5em;\n",
       "  /* unfitted */\n",
       "  background-color: var(--sklearn-color-unfitted-level-0);\n",
       "}\n",
       "\n",
       "#sk-container-id-1 div.sk-estimator.fitted {\n",
       "  /* fitted */\n",
       "  background-color: var(--sklearn-color-fitted-level-0);\n",
       "}\n",
       "\n",
       "/* on hover */\n",
       "#sk-container-id-1 div.sk-estimator:hover {\n",
       "  /* unfitted */\n",
       "  background-color: var(--sklearn-color-unfitted-level-2);\n",
       "}\n",
       "\n",
       "#sk-container-id-1 div.sk-estimator.fitted:hover {\n",
       "  /* fitted */\n",
       "  background-color: var(--sklearn-color-fitted-level-2);\n",
       "}\n",
       "\n",
       "/* Specification for estimator info (e.g. \"i\" and \"?\") */\n",
       "\n",
       "/* Common style for \"i\" and \"?\" */\n",
       "\n",
       ".sk-estimator-doc-link,\n",
       "a:link.sk-estimator-doc-link,\n",
       "a:visited.sk-estimator-doc-link {\n",
       "  float: right;\n",
       "  font-size: smaller;\n",
       "  line-height: 1em;\n",
       "  font-family: monospace;\n",
       "  background-color: var(--sklearn-color-background);\n",
       "  border-radius: 1em;\n",
       "  height: 1em;\n",
       "  width: 1em;\n",
       "  text-decoration: none !important;\n",
       "  margin-left: 0.5em;\n",
       "  text-align: center;\n",
       "  /* unfitted */\n",
       "  border: var(--sklearn-color-unfitted-level-1) 1pt solid;\n",
       "  color: var(--sklearn-color-unfitted-level-1);\n",
       "}\n",
       "\n",
       ".sk-estimator-doc-link.fitted,\n",
       "a:link.sk-estimator-doc-link.fitted,\n",
       "a:visited.sk-estimator-doc-link.fitted {\n",
       "  /* fitted */\n",
       "  border: var(--sklearn-color-fitted-level-1) 1pt solid;\n",
       "  color: var(--sklearn-color-fitted-level-1);\n",
       "}\n",
       "\n",
       "/* On hover */\n",
       "div.sk-estimator:hover .sk-estimator-doc-link:hover,\n",
       ".sk-estimator-doc-link:hover,\n",
       "div.sk-label-container:hover .sk-estimator-doc-link:hover,\n",
       ".sk-estimator-doc-link:hover {\n",
       "  /* unfitted */\n",
       "  background-color: var(--sklearn-color-unfitted-level-3);\n",
       "  color: var(--sklearn-color-background);\n",
       "  text-decoration: none;\n",
       "}\n",
       "\n",
       "div.sk-estimator.fitted:hover .sk-estimator-doc-link.fitted:hover,\n",
       ".sk-estimator-doc-link.fitted:hover,\n",
       "div.sk-label-container:hover .sk-estimator-doc-link.fitted:hover,\n",
       ".sk-estimator-doc-link.fitted:hover {\n",
       "  /* fitted */\n",
       "  background-color: var(--sklearn-color-fitted-level-3);\n",
       "  color: var(--sklearn-color-background);\n",
       "  text-decoration: none;\n",
       "}\n",
       "\n",
       "/* Span, style for the box shown on hovering the info icon */\n",
       ".sk-estimator-doc-link span {\n",
       "  display: none;\n",
       "  z-index: 9999;\n",
       "  position: relative;\n",
       "  font-weight: normal;\n",
       "  right: .2ex;\n",
       "  padding: .5ex;\n",
       "  margin: .5ex;\n",
       "  width: min-content;\n",
       "  min-width: 20ex;\n",
       "  max-width: 50ex;\n",
       "  color: var(--sklearn-color-text);\n",
       "  box-shadow: 2pt 2pt 4pt #999;\n",
       "  /* unfitted */\n",
       "  background: var(--sklearn-color-unfitted-level-0);\n",
       "  border: .5pt solid var(--sklearn-color-unfitted-level-3);\n",
       "}\n",
       "\n",
       ".sk-estimator-doc-link.fitted span {\n",
       "  /* fitted */\n",
       "  background: var(--sklearn-color-fitted-level-0);\n",
       "  border: var(--sklearn-color-fitted-level-3);\n",
       "}\n",
       "\n",
       ".sk-estimator-doc-link:hover span {\n",
       "  display: block;\n",
       "}\n",
       "\n",
       "/* \"?\"-specific style due to the `<a>` HTML tag */\n",
       "\n",
       "#sk-container-id-1 a.estimator_doc_link {\n",
       "  float: right;\n",
       "  font-size: 1rem;\n",
       "  line-height: 1em;\n",
       "  font-family: monospace;\n",
       "  background-color: var(--sklearn-color-background);\n",
       "  border-radius: 1rem;\n",
       "  height: 1rem;\n",
       "  width: 1rem;\n",
       "  text-decoration: none;\n",
       "  /* unfitted */\n",
       "  color: var(--sklearn-color-unfitted-level-1);\n",
       "  border: var(--sklearn-color-unfitted-level-1) 1pt solid;\n",
       "}\n",
       "\n",
       "#sk-container-id-1 a.estimator_doc_link.fitted {\n",
       "  /* fitted */\n",
       "  border: var(--sklearn-color-fitted-level-1) 1pt solid;\n",
       "  color: var(--sklearn-color-fitted-level-1);\n",
       "}\n",
       "\n",
       "/* On hover */\n",
       "#sk-container-id-1 a.estimator_doc_link:hover {\n",
       "  /* unfitted */\n",
       "  background-color: var(--sklearn-color-unfitted-level-3);\n",
       "  color: var(--sklearn-color-background);\n",
       "  text-decoration: none;\n",
       "}\n",
       "\n",
       "#sk-container-id-1 a.estimator_doc_link.fitted:hover {\n",
       "  /* fitted */\n",
       "  background-color: var(--sklearn-color-fitted-level-3);\n",
       "}\n",
       "</style><div id=\"sk-container-id-1\" class=\"sk-top-container\"><div class=\"sk-text-repr-fallback\"><pre>MultinomialNB()</pre><b>In a Jupyter environment, please rerun this cell to show the HTML representation or trust the notebook. <br />On GitHub, the HTML representation is unable to render, please try loading this page with nbviewer.org.</b></div><div class=\"sk-container\" hidden><div class=\"sk-item\"><div class=\"sk-estimator fitted sk-toggleable\"><input class=\"sk-toggleable__control sk-hidden--visually\" id=\"sk-estimator-id-1\" type=\"checkbox\" checked><label for=\"sk-estimator-id-1\" class=\"sk-toggleable__label fitted sk-toggleable__label-arrow\"><div><div>MultinomialNB</div></div><div><a class=\"sk-estimator-doc-link fitted\" rel=\"noreferrer\" target=\"_blank\" href=\"https://scikit-learn.org/1.6/modules/generated/sklearn.naive_bayes.MultinomialNB.html\">?<span>Documentation for MultinomialNB</span></a><span class=\"sk-estimator-doc-link fitted\">i<span>Fitted</span></span></div></label><div class=\"sk-toggleable__content fitted\"><pre>MultinomialNB()</pre></div> </div></div></div></div>"
      ],
      "text/plain": [
       "MultinomialNB()"
      ]
     },
     "execution_count": 93,
     "metadata": {},
     "output_type": "execute_result"
    }
   ],
   "source": [
    "# Import Multinomial Naïve Bayes\n",
    "from sklearn.naive_bayes import MultinomialNB\n",
    "\n",
    "# Create classifier objects for TF-IDF and Bag-of-Words models\n",
    "classifier_bow = MultinomialNB()\n",
    "classifier_tfidf = MultinomialNB()\n",
    "\n",
    "# Fit the models using the training data\n",
    "classifier_bow.fit(train_bow, train_data['sentiment']) \n",
    "classifier_tfidf.fit(train_tfidf, train_data['sentiment'])\n"
   ]
  },
  {
   "cell_type": "code",
   "execution_count": 96,
   "id": "5342924f-fca0-4989-b2b5-bbf28843ca5e",
   "metadata": {},
   "outputs": [],
   "source": [
    "# Making predictions with classifier\n",
    "test_data['bow'] = classifier_bow.predict(test_bow)\n",
    "test_data['tfidf'] = classifier_tfidf.predict(test_tfidf)\n"
   ]
  },
  {
   "cell_type": "markdown",
   "id": "dc858a37-ad73-47d9-9e5f-57971c716951",
   "metadata": {},
   "source": [
    "# model Evaluation"
   ]
  },
  {
   "cell_type": "code",
   "execution_count": 99,
   "id": "57fed2f7-a067-419f-b06d-210e84999f81",
   "metadata": {},
   "outputs": [],
   "source": [
    "from sklearn.metrics import accuracy_score, classification_report"
   ]
  },
  {
   "cell_type": "code",
   "execution_count": 97,
   "id": "cd89771f-f8cf-47d3-8db0-ceeb4c464c78",
   "metadata": {},
   "outputs": [
    {
     "data": {
      "text/html": [
       "<div>\n",
       "<style scoped>\n",
       "    .dataframe tbody tr th:only-of-type {\n",
       "        vertical-align: middle;\n",
       "    }\n",
       "\n",
       "    .dataframe tbody tr th {\n",
       "        vertical-align: top;\n",
       "    }\n",
       "\n",
       "    .dataframe thead th {\n",
       "        text-align: right;\n",
       "    }\n",
       "</style>\n",
       "<table border=\"1\" class=\"dataframe\">\n",
       "  <thead>\n",
       "    <tr style=\"text-align: right;\">\n",
       "      <th></th>\n",
       "      <th>review_comment_message</th>\n",
       "      <th>sentiment</th>\n",
       "      <th>translated_review</th>\n",
       "      <th>stop_words</th>\n",
       "      <th>vader_on_text</th>\n",
       "      <th>vader_on_text_without_stopwords</th>\n",
       "      <th>bow</th>\n",
       "      <th>tfidf</th>\n",
       "    </tr>\n",
       "  </thead>\n",
       "  <tbody>\n",
       "    <tr>\n",
       "      <th>15363</th>\n",
       "      <td>Um produto como uma carteira somente poderia s...</td>\n",
       "      <td>Positive</td>\n",
       "      <td>However, the product is well finished and leat...</td>\n",
       "      <td>However , product well finished leather spec</td>\n",
       "      <td>Positive</td>\n",
       "      <td>Positive</td>\n",
       "      <td>Positive</td>\n",
       "      <td>Positive</td>\n",
       "    </tr>\n",
       "    <tr>\n",
       "      <th>7379</th>\n",
       "      <td>Entrega no prazo , bom produto .</td>\n",
       "      <td>Positive</td>\n",
       "      <td>Delivery within three months, good product.</td>\n",
       "      <td>Delivery within three months , good product .</td>\n",
       "      <td>Positive</td>\n",
       "      <td>Positive</td>\n",
       "      <td>Positive</td>\n",
       "      <td>Positive</td>\n",
       "    </tr>\n",
       "    <tr>\n",
       "      <th>17202</th>\n",
       "      <td>entrega rápida</td>\n",
       "      <td>Positive</td>\n",
       "      <td>Fast delivery fast delivery fast delivery fast...</td>\n",
       "      <td>Fast delivery fast delivery fast delivery fast...</td>\n",
       "      <td>Neutral</td>\n",
       "      <td>Neutral</td>\n",
       "      <td>Positive</td>\n",
       "      <td>Positive</td>\n",
       "    </tr>\n",
       "    <tr>\n",
       "      <th>17235</th>\n",
       "      <td>Chegou no prazo e atendeu as minhas espectativas</td>\n",
       "      <td>Positive</td>\n",
       "      <td>It arrived within the deadline and met my spec...</td>\n",
       "      <td>It arrived within deadline met spectative</td>\n",
       "      <td>Neutral</td>\n",
       "      <td>Neutral</td>\n",
       "      <td>Positive</td>\n",
       "      <td>Positive</td>\n",
       "    </tr>\n",
       "    <tr>\n",
       "      <th>31370</th>\n",
       "      <td>Logística ótima entregue antes do prazo previs...</td>\n",
       "      <td>Positive</td>\n",
       "      <td>I am satisfied.</td>\n",
       "      <td>I satisfied .</td>\n",
       "      <td>Positive</td>\n",
       "      <td>Positive</td>\n",
       "      <td>Positive</td>\n",
       "      <td>Positive</td>\n",
       "    </tr>\n",
       "  </tbody>\n",
       "</table>\n",
       "</div>"
      ],
      "text/plain": [
       "                                  review_comment_message sentiment  \\\n",
       "15363  Um produto como uma carteira somente poderia s...  Positive   \n",
       "7379                    Entrega no prazo , bom produto .  Positive   \n",
       "17202                                     entrega rápida  Positive   \n",
       "17235   Chegou no prazo e atendeu as minhas espectativas  Positive   \n",
       "31370  Logística ótima entregue antes do prazo previs...  Positive   \n",
       "\n",
       "                                       translated_review  \\\n",
       "15363  However, the product is well finished and leat...   \n",
       "7379         Delivery within three months, good product.   \n",
       "17202  Fast delivery fast delivery fast delivery fast...   \n",
       "17235  It arrived within the deadline and met my spec...   \n",
       "31370                                    I am satisfied.   \n",
       "\n",
       "                                              stop_words vader_on_text  \\\n",
       "15363       However , product well finished leather spec      Positive   \n",
       "7379       Delivery within three months , good product .      Positive   \n",
       "17202  Fast delivery fast delivery fast delivery fast...       Neutral   \n",
       "17235          It arrived within deadline met spectative       Neutral   \n",
       "31370                                      I satisfied .      Positive   \n",
       "\n",
       "      vader_on_text_without_stopwords       bow     tfidf  \n",
       "15363                        Positive  Positive  Positive  \n",
       "7379                         Positive  Positive  Positive  \n",
       "17202                         Neutral  Positive  Positive  \n",
       "17235                         Neutral  Positive  Positive  \n",
       "31370                        Positive  Positive  Positive  "
      ]
     },
     "execution_count": 97,
     "metadata": {},
     "output_type": "execute_result"
    }
   ],
   "source": [
    "# check the test data\n",
    "test_data.head(5)"
   ]
  },
  {
   "cell_type": "code",
   "execution_count": 100,
   "id": "5fe13d04-255f-4cb5-8d2e-a2f76c036c5a",
   "metadata": {},
   "outputs": [],
   "source": [
    "# Evaluating accuracy of VADER on processed text\n",
    "vader_text_accuracy_score = accuracy_score(test_data['sentiment'], test_data['vader_on_text'])"
   ]
  },
  {
   "cell_type": "code",
   "execution_count": 101,
   "id": "361431c1-3a6f-46bb-a251-1b7194df7af1",
   "metadata": {},
   "outputs": [
    {
     "data": {
      "text/plain": [
       "51.805758906783794"
      ]
     },
     "execution_count": 101,
     "metadata": {},
     "output_type": "execute_result"
    }
   ],
   "source": [
    "vader_text_accuracy_score*100"
   ]
  },
  {
   "cell_type": "code",
   "execution_count": 105,
   "id": "3ba25f49-fdfa-46c0-8216-200d98f4d63a",
   "metadata": {},
   "outputs": [
    {
     "name": "stdout",
     "output_type": "stream",
     "text": [
      "Classification Report for VADER on Full Text:\n",
      "              precision    recall  f1-score   support\n",
      "\n",
      "    Negative       0.62      0.27      0.37      2151\n",
      "     Neutral       0.11      0.51      0.18       730\n",
      "    Positive       0.86      0.62      0.72      5315\n",
      "\n",
      "    accuracy                           0.52      8196\n",
      "   macro avg       0.53      0.47      0.42      8196\n",
      "weighted avg       0.73      0.52      0.58      8196\n",
      "\n"
     ]
    }
   ],
   "source": [
    "print(\"Classification Report for VADER on Full Text:\")\n",
    "print(classification_report(test_data['sentiment'], test_data['vader_on_text']))\n"
   ]
  },
  {
   "cell_type": "code",
   "execution_count": 102,
   "id": "778109d3-1208-4534-8226-d626c42bb12f",
   "metadata": {},
   "outputs": [
    {
     "name": "stdout",
     "output_type": "stream",
     "text": [
      "51.18350414836505\n"
     ]
    }
   ],
   "source": [
    "# VADER accuracy on text without stopwords\n",
    "vader_text_stopwords_accuracy_score = accuracy_score(test_data['sentiment'], test_data['vader_on_text_without_stopwords'])\n",
    "print(vader_text_stopwords_accuracy_score * 100)\n"
   ]
  },
  {
   "cell_type": "code",
   "execution_count": 106,
   "id": "c8e84f1e-1c8f-4e09-a8ca-12c98bc887e9",
   "metadata": {},
   "outputs": [
    {
     "name": "stdout",
     "output_type": "stream",
     "text": [
      "Classification Report for VADER on Text Without Stopwords:\n",
      "              precision    recall  f1-score   support\n",
      "\n",
      "    Negative       0.61      0.22      0.32      2151\n",
      "     Neutral       0.11      0.51      0.18       730\n",
      "    Positive       0.84      0.63      0.72      5315\n",
      "\n",
      "    accuracy                           0.51      8196\n",
      "   macro avg       0.52      0.45      0.41      8196\n",
      "weighted avg       0.72      0.51      0.57      8196\n",
      "\n"
     ]
    }
   ],
   "source": [
    "# classification report\n",
    "print(\"Classification Report for VADER on Text Without Stopwords:\")\n",
    "print(classification_report(test_data['sentiment'], test_data['vader_on_text_without_stopwords']))\n"
   ]
  },
  {
   "cell_type": "code",
   "execution_count": 103,
   "id": "fe63dedb-3722-4269-b45f-ed6d807be023",
   "metadata": {},
   "outputs": [
    {
     "name": "stdout",
     "output_type": "stream",
     "text": [
      "79.19716935090287\n"
     ]
    }
   ],
   "source": [
    "# BOW model accuracy\n",
    "bow_score = accuracy_score(test_data['sentiment'], test_data['bow'])\n",
    "print(bow_score * 100)"
   ]
  },
  {
   "cell_type": "code",
   "execution_count": 107,
   "id": "efc02d16-8269-4790-bd75-87085ee734d2",
   "metadata": {},
   "outputs": [
    {
     "name": "stdout",
     "output_type": "stream",
     "text": [
      "Classification Report for Bag of Words Model:\n",
      "              precision    recall  f1-score   support\n",
      "\n",
      "    Negative       0.67      0.82      0.74      2151\n",
      "     Neutral       0.22      0.06      0.09       730\n",
      "    Positive       0.87      0.88      0.88      5315\n",
      "\n",
      "    accuracy                           0.79      8196\n",
      "   macro avg       0.59      0.59      0.57      8196\n",
      "weighted avg       0.76      0.79      0.77      8196\n",
      "\n"
     ]
    }
   ],
   "source": [
    "# classification report\n",
    "print(\"Classification Report for Bag of Words Model:\")\n",
    "print(classification_report(test_data['sentiment'], test_data['bow']))"
   ]
  },
  {
   "cell_type": "code",
   "execution_count": 104,
   "id": "01a9cbd8-7d73-474b-aa23-d717449f6b66",
   "metadata": {},
   "outputs": [
    {
     "name": "stdout",
     "output_type": "stream",
     "text": [
      "79.0141532454856\n"
     ]
    }
   ],
   "source": [
    "# TF-IDF model accuracy\n",
    "tfidf_score = accuracy_score(test_data['sentiment'], test_data['tfidf'])\n",
    "print(tfidf_score * 100)"
   ]
  },
  {
   "cell_type": "code",
   "execution_count": 108,
   "id": "e82cf083-d9f1-42c1-a06a-17853ecaf92e",
   "metadata": {},
   "outputs": [
    {
     "name": "stdout",
     "output_type": "stream",
     "text": [
      "Classification Report for TF-IDF Model:\n",
      "              precision    recall  f1-score   support\n",
      "\n",
      "    Negative       0.71      0.71      0.71      2151\n",
      "     Neutral       0.25      0.00      0.01       730\n",
      "    Positive       0.82      0.93      0.87      5315\n",
      "\n",
      "    accuracy                           0.79      8196\n",
      "   macro avg       0.59      0.55      0.53      8196\n",
      "weighted avg       0.74      0.79      0.75      8196\n",
      "\n"
     ]
    }
   ],
   "source": [
    "# classification report\n",
    "print(\"Classification Report for TF-IDF Model:\")\n",
    "print(classification_report(test_data['sentiment'], test_data['tfidf']))"
   ]
  },
  {
   "cell_type": "code",
   "execution_count": 109,
   "id": "e8940971-0b0b-49b2-a9be-f99f56e36565",
   "metadata": {},
   "outputs": [
    {
     "name": "stdout",
     "output_type": "stream",
     "text": [
      "Predicted Sentiment: Positive\n"
     ]
    }
   ],
   "source": [
    "def infer_sentiment(text):\n",
    "    \"\"\"\n",
    "    Perform sentiment inference on a given text:\n",
    "    - Remove stopwords\n",
    "    - Convert remaining text to Bag of Words (BoW)\n",
    "    - Pass the BoW representation to the trained classifier\n",
    "    - Return predicted sentiment\n",
    "    \"\"\"\n",
    "    # Preprocess the input text\n",
    "    filtered_text = remove_stopwords(text)\n",
    "    \n",
    "    # Convert text to BoW representation\n",
    "    bow_single = vectorizer.transform([filtered_text]) \n",
    "    \n",
    "    # Predict sentiment using trained BoW classifier\n",
    "    prediction = classifier_bow.predict(bow_single)\n",
    "    \n",
    "    return prediction[0]\n",
    "\n",
    "# Example usage\n",
    "example_text = \"The product arrived late, but the quality is great.\"\n",
    "predicted_sentiment = infer_sentiment(example_text)\n",
    "print(\"Predicted Sentiment:\", predicted_sentiment)\n"
   ]
  },
  {
   "cell_type": "markdown",
   "id": "cce5ddf6-3866-4cf2-9804-0a67a0033bfe",
   "metadata": {},
   "source": [
    "# Conclusion\n",
    "The best-performing model/pipeline for sentiment classification is: Text → Stopwords Removal → Bag of Words → MultinomialNB.\n",
    "\n",
    "## Key Observations:\n",
    "* The Bag of Words (BoW) model achieved higher recall and precision for both Negative and Positive classes, making it more reliable in classifying sentiments.\n",
    "* The TF-IDF model had a lower recall for Neutral sentiments, which means it struggles to detect moderate/mixed reviews.\n",
    "* The overall accuracy of BoW was comparable to TF-IDF, but BoW performed slightly better in classifying both extreme sentiments (Negative and Positive).\n",
    "* The neutral class had the lowest performance across both models, which might indicate an imbalance in data or that neutral sentiments are harder to distinguish."
   ]
  },
  {
   "cell_type": "code",
   "execution_count": null,
   "id": "b70fe1b7-9354-49da-9278-7916aec724a2",
   "metadata": {},
   "outputs": [],
   "source": []
  }
 ],
 "metadata": {
  "kernelspec": {
   "display_name": "Python 3 (ipykernel)",
   "language": "python",
   "name": "python3"
  },
  "language_info": {
   "codemirror_mode": {
    "name": "ipython",
    "version": 3
   },
   "file_extension": ".py",
   "mimetype": "text/x-python",
   "name": "python",
   "nbconvert_exporter": "python",
   "pygments_lexer": "ipython3",
   "version": "3.12.4"
  }
 },
 "nbformat": 4,
 "nbformat_minor": 5
}
